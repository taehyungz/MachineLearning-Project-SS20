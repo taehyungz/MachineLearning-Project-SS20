{
 "cells": [
  {
   "cell_type": "code",
   "execution_count": 1,
   "metadata": {
    "collapsed": true
   },
   "outputs": [],
   "source": [
    "import matplotlib.pyplot as plt\n",
    "import pandas as pd"
   ]
  },
  {
   "cell_type": "code",
   "execution_count": 2,
   "metadata": {
    "pycharm": {
     "name": "#%%\n"
    }
   },
   "outputs": [],
   "source": [
    "path = \"../../../data/\"\n",
    "file_name = path + \"pctdata.csv\"\n",
    "df = pd.read_csv(file_name)"
   ]
  },
  {
   "cell_type": "markdown",
   "metadata": {
    "pycharm": {
     "name": "#%% md\n"
    }
   },
   "source": [
    "## research the data"
   ]
  },
  {
   "cell_type": "code",
   "execution_count": 3,
   "metadata": {
    "pycharm": {
     "name": "#%%\n"
    }
   },
   "outputs": [
    {
     "data": {
      "text/plain": "        id_plane   id_x   id_y  i_event  i_time_stamp\n0              1  492.0  310.0       32         21600\n1              1  493.0  310.0       32         21600\n2              1  493.0  311.0       32         21600\n3              1  492.0  311.0       32         21600\n4              1  493.0  312.0       32         21600\n...          ...    ...    ...      ...           ...\n220133         0  472.0  271.0   240306   19215829070\n220134         0  472.0  272.0   240306   19215829070\n220135         0  473.0  272.0   240306   19215829070\n220136         0  472.0  273.0   240306   19215829070\n220137         0  474.0  271.0   240306   19215829070\n\n[220138 rows x 5 columns]",
      "text/html": "<div>\n<style scoped>\n    .dataframe tbody tr th:only-of-type {\n        vertical-align: middle;\n    }\n\n    .dataframe tbody tr th {\n        vertical-align: top;\n    }\n\n    .dataframe thead th {\n        text-align: right;\n    }\n</style>\n<table border=\"1\" class=\"dataframe\">\n  <thead>\n    <tr style=\"text-align: right;\">\n      <th></th>\n      <th>id_plane</th>\n      <th>id_x</th>\n      <th>id_y</th>\n      <th>i_event</th>\n      <th>i_time_stamp</th>\n    </tr>\n  </thead>\n  <tbody>\n    <tr>\n      <th>0</th>\n      <td>1</td>\n      <td>492.0</td>\n      <td>310.0</td>\n      <td>32</td>\n      <td>21600</td>\n    </tr>\n    <tr>\n      <th>1</th>\n      <td>1</td>\n      <td>493.0</td>\n      <td>310.0</td>\n      <td>32</td>\n      <td>21600</td>\n    </tr>\n    <tr>\n      <th>2</th>\n      <td>1</td>\n      <td>493.0</td>\n      <td>311.0</td>\n      <td>32</td>\n      <td>21600</td>\n    </tr>\n    <tr>\n      <th>3</th>\n      <td>1</td>\n      <td>492.0</td>\n      <td>311.0</td>\n      <td>32</td>\n      <td>21600</td>\n    </tr>\n    <tr>\n      <th>4</th>\n      <td>1</td>\n      <td>493.0</td>\n      <td>312.0</td>\n      <td>32</td>\n      <td>21600</td>\n    </tr>\n    <tr>\n      <th>...</th>\n      <td>...</td>\n      <td>...</td>\n      <td>...</td>\n      <td>...</td>\n      <td>...</td>\n    </tr>\n    <tr>\n      <th>220133</th>\n      <td>0</td>\n      <td>472.0</td>\n      <td>271.0</td>\n      <td>240306</td>\n      <td>19215829070</td>\n    </tr>\n    <tr>\n      <th>220134</th>\n      <td>0</td>\n      <td>472.0</td>\n      <td>272.0</td>\n      <td>240306</td>\n      <td>19215829070</td>\n    </tr>\n    <tr>\n      <th>220135</th>\n      <td>0</td>\n      <td>473.0</td>\n      <td>272.0</td>\n      <td>240306</td>\n      <td>19215829070</td>\n    </tr>\n    <tr>\n      <th>220136</th>\n      <td>0</td>\n      <td>472.0</td>\n      <td>273.0</td>\n      <td>240306</td>\n      <td>19215829070</td>\n    </tr>\n    <tr>\n      <th>220137</th>\n      <td>0</td>\n      <td>474.0</td>\n      <td>271.0</td>\n      <td>240306</td>\n      <td>19215829070</td>\n    </tr>\n  </tbody>\n</table>\n<p>220138 rows × 5 columns</p>\n</div>"
     },
     "execution_count": 3,
     "metadata": {},
     "output_type": "execute_result"
    }
   ],
   "source": [
    "df"
   ]
  },
  {
   "cell_type": "markdown",
   "metadata": {
    "pycharm": {
     "name": "#%% md\n"
    }
   },
   "source": [
    "#### To understand these data easily, <br/> we have to see 'describe()' and 'unique()' function in this dataframe."
   ]
  },
  {
   "cell_type": "code",
   "execution_count": 4,
   "metadata": {
    "pycharm": {
     "name": "#%%\n"
    }
   },
   "outputs": [
    {
     "data": {
      "text/plain": "            id_plane           id_x           id_y        i_event  \\\ncount  220138.000000  220138.000000  220138.000000  220138.000000   \nmean        0.977087     542.052535     293.056724  121902.603517   \nstd         0.808873     164.238880      95.414469   68927.426627   \nmin         0.000000       0.000000       0.000000      32.000000   \n25%         0.000000     498.000000     253.000000   62468.000000   \n50%         1.000000     540.000000     293.000000  125313.000000   \n75%         2.000000     587.000000     340.000000  179091.000000   \nmax         2.000000    1023.000000     511.000000  240306.000000   \n\n       i_time_stamp  \ncount  2.201380e+05  \nmean   9.747214e+09  \nstd    5.513849e+09  \nmin    2.160000e+04  \n25%    4.991985e+09  \n50%    1.002388e+10  \n75%    1.431988e+10  \nmax    1.921583e+10  ",
      "text/html": "<div>\n<style scoped>\n    .dataframe tbody tr th:only-of-type {\n        vertical-align: middle;\n    }\n\n    .dataframe tbody tr th {\n        vertical-align: top;\n    }\n\n    .dataframe thead th {\n        text-align: right;\n    }\n</style>\n<table border=\"1\" class=\"dataframe\">\n  <thead>\n    <tr style=\"text-align: right;\">\n      <th></th>\n      <th>id_plane</th>\n      <th>id_x</th>\n      <th>id_y</th>\n      <th>i_event</th>\n      <th>i_time_stamp</th>\n    </tr>\n  </thead>\n  <tbody>\n    <tr>\n      <th>count</th>\n      <td>220138.000000</td>\n      <td>220138.000000</td>\n      <td>220138.000000</td>\n      <td>220138.000000</td>\n      <td>2.201380e+05</td>\n    </tr>\n    <tr>\n      <th>mean</th>\n      <td>0.977087</td>\n      <td>542.052535</td>\n      <td>293.056724</td>\n      <td>121902.603517</td>\n      <td>9.747214e+09</td>\n    </tr>\n    <tr>\n      <th>std</th>\n      <td>0.808873</td>\n      <td>164.238880</td>\n      <td>95.414469</td>\n      <td>68927.426627</td>\n      <td>5.513849e+09</td>\n    </tr>\n    <tr>\n      <th>min</th>\n      <td>0.000000</td>\n      <td>0.000000</td>\n      <td>0.000000</td>\n      <td>32.000000</td>\n      <td>2.160000e+04</td>\n    </tr>\n    <tr>\n      <th>25%</th>\n      <td>0.000000</td>\n      <td>498.000000</td>\n      <td>253.000000</td>\n      <td>62468.000000</td>\n      <td>4.991985e+09</td>\n    </tr>\n    <tr>\n      <th>50%</th>\n      <td>1.000000</td>\n      <td>540.000000</td>\n      <td>293.000000</td>\n      <td>125313.000000</td>\n      <td>1.002388e+10</td>\n    </tr>\n    <tr>\n      <th>75%</th>\n      <td>2.000000</td>\n      <td>587.000000</td>\n      <td>340.000000</td>\n      <td>179091.000000</td>\n      <td>1.431988e+10</td>\n    </tr>\n    <tr>\n      <th>max</th>\n      <td>2.000000</td>\n      <td>1023.000000</td>\n      <td>511.000000</td>\n      <td>240306.000000</td>\n      <td>1.921583e+10</td>\n    </tr>\n  </tbody>\n</table>\n</div>"
     },
     "execution_count": 4,
     "metadata": {},
     "output_type": "execute_result"
    }
   ],
   "source": [
    "df.describe()"
   ]
  },
  {
   "cell_type": "code",
   "execution_count": 5,
   "metadata": {
    "pycharm": {
     "name": "#%%\n"
    }
   },
   "outputs": [
    {
     "data": {
      "text/plain": "array([1, 2, 0], dtype=int64)"
     },
     "execution_count": 5,
     "metadata": {},
     "output_type": "execute_result"
    }
   ],
   "source": [
    "df['id_plane'].unique()"
   ]
  },
  {
   "cell_type": "markdown",
   "metadata": {
    "pycharm": {
     "name": "#%% md\n"
    }
   },
   "source": [
    "* There are only three values - ``0``, ``1``, ``2``.\n",
    "* I can assume that they are indicated some type."
   ]
  },
  {
   "cell_type": "code",
   "source": [
    "print(df['id_x'].count())\n",
    "print(df['id_y'].count())\n",
    "print(df['id_x'].nunique())\n",
    "print(df['id_y'].nunique())"
   ],
   "metadata": {
    "collapsed": false,
    "pycharm": {
     "name": "#%%\n"
    }
   },
   "execution_count": 6,
   "outputs": [
    {
     "name": "stdout",
     "output_type": "stream",
     "text": [
      "220138\n",
      "220138\n",
      "1024\n",
      "512\n"
     ]
    }
   ]
  },
  {
   "cell_type": "markdown",
   "source": [
    "* Alpide chip proton image size is 1024*512.\n",
    "* ``id_x`` and ``id_y`` has same number of data.\n",
    "* ``id_x`` has 1024 kinds of number, it may contains x coordinate in the image.\n",
    "* ``id_y`` has 512 kinds of number, it may contains y coordinate in the image."
   ],
   "metadata": {
    "collapsed": false,
    "pycharm": {
     "name": "#%% md\n"
    }
   }
  },
  {
   "cell_type": "code",
   "execution_count": 7,
   "metadata": {
    "pycharm": {
     "name": "#%%\n"
    }
   },
   "outputs": [
    {
     "name": "stdout",
     "output_type": "stream",
     "text": [
      "[    32     33     47 ... 240276 240277 240306]\n",
      "22789\n",
      "(220138,)\n"
     ]
    }
   ],
   "source": [
    "print(df['i_event'].unique())\n",
    "print(df['i_event'].nunique())\n",
    "print(df['i_event'].shape)"
   ]
  },
  {
   "cell_type": "markdown",
   "metadata": {
    "pycharm": {
     "name": "#%% md\n"
    }
   },
   "source": [
    "* In the dataframe table upside, same ``i_event`` has same ``i_time_stamp``.\n",
    "* I can't say 'this is sure' now, but I will investigate it later."
   ]
  },
  {
   "cell_type": "code",
   "execution_count": 8,
   "metadata": {
    "pycharm": {
     "name": "#%%\n"
    }
   },
   "outputs": [
    {
     "name": "stdout",
     "output_type": "stream",
     "text": [
      "[      21600       22400       33598 ... 19215805070 19215805870\n",
      " 19215829070]\n",
      "22789\n",
      "(220138,)\n"
     ]
    }
   ],
   "source": [
    "print(df['i_time_stamp'].unique())\n",
    "print(df['i_time_stamp'].nunique())\n",
    "print(df['i_time_stamp'].shape)"
   ]
  },
  {
   "cell_type": "markdown",
   "metadata": {
    "pycharm": {
     "name": "#%% md\n"
    }
   },
   "source": [
    "* Through the name, I can assume that it will be related with time.\n",
    "* This feature has same number of data with i_event."
   ]
  },
  {
   "cell_type": "markdown",
   "metadata": {
    "pycharm": {
     "name": "#%% md\n"
    }
   },
   "source": [
    "### Find the relevence of ``i_time_stamp`` and ``i_event``"
   ]
  },
  {
   "cell_type": "code",
   "execution_count": 9,
   "metadata": {
    "pycharm": {
     "name": "#%%\n"
    }
   },
   "outputs": [
    {
     "data": {
      "text/plain": "<Figure size 432x288 with 1 Axes>",
      "image/png": "[encoded data removed]"
     },
     "metadata": {
      "needs_background": "light"
     },
     "output_type": "display_data"
    }
   ],
   "source": [
    "plt.plot(df['i_time_stamp'],df['i_event'])\n",
    "plt.suptitle('i_time_stamp & i_event')\n",
    "plt.xlabel('i_time_stamp')\n",
    "plt.ylabel('i_event')\n",
    "plt.show()"
   ]
  },
  {
   "cell_type": "code",
   "execution_count": 10,
   "outputs": [
    {
     "data": {
      "text/plain": "              id_plane      id_x      id_y   i_event  i_time_stamp\nid_plane      1.000000  0.007633 -0.009102 -0.001380     -0.001379\nid_x          0.007633  1.000000  0.000413  0.032230      0.032230\nid_y         -0.009102  0.000413  1.000000  0.018255      0.018253\ni_event      -0.001380  0.032230  0.018255  1.000000      1.000000\ni_time_stamp -0.001379  0.032230  0.018253  1.000000      1.000000",
      "text/html": "<div>\n<style scoped>\n    .dataframe tbody tr th:only-of-type {\n        vertical-align: middle;\n    }\n\n    .dataframe tbody tr th {\n        vertical-align: top;\n    }\n\n    .dataframe thead th {\n        text-align: right;\n    }\n</style>\n<table border=\"1\" class=\"dataframe\">\n  <thead>\n    <tr style=\"text-align: right;\">\n      <th></th>\n      <th>id_plane</th>\n      <th>id_x</th>\n      <th>id_y</th>\n      <th>i_event</th>\n      <th>i_time_stamp</th>\n    </tr>\n  </thead>\n  <tbody>\n    <tr>\n      <th>id_plane</th>\n      <td>1.000000</td>\n      <td>0.007633</td>\n      <td>-0.009102</td>\n      <td>-0.001380</td>\n      <td>-0.001379</td>\n    </tr>\n    <tr>\n      <th>id_x</th>\n      <td>0.007633</td>\n      <td>1.000000</td>\n      <td>0.000413</td>\n      <td>0.032230</td>\n      <td>0.032230</td>\n    </tr>\n    <tr>\n      <th>id_y</th>\n      <td>-0.009102</td>\n      <td>0.000413</td>\n      <td>1.000000</td>\n      <td>0.018255</td>\n      <td>0.018253</td>\n    </tr>\n    <tr>\n      <th>i_event</th>\n      <td>-0.001380</td>\n      <td>0.032230</td>\n      <td>0.018255</td>\n      <td>1.000000</td>\n      <td>1.000000</td>\n    </tr>\n    <tr>\n      <th>i_time_stamp</th>\n      <td>-0.001379</td>\n      <td>0.032230</td>\n      <td>0.018253</td>\n      <td>1.000000</td>\n      <td>1.000000</td>\n    </tr>\n  </tbody>\n</table>\n</div>"
     },
     "execution_count": 10,
     "metadata": {},
     "output_type": "execute_result"
    }
   ],
   "source": [
    "df.corr()"
   ],
   "metadata": {
    "collapsed": false,
    "pycharm": {
     "name": "#%%\n"
    }
   }
  },
  {
   "cell_type": "markdown",
   "metadata": {
    "pycharm": {
     "name": "#%% md\n"
    }
   },
   "source": [
    "* It has a linear proportion.\n",
    "* As the ``i_time_stamp`` goes up, ``i_event`` goes up too.\n",
    "* To see the correlation, ``i_event`` has 1 corr value with ``i_time_stamp``, which means complete correlation.\n",
    "* i_time_stamp may mean the relative time, and i_event may mean the groups that examination occured in the same time."
   ]
  }
 ],
 "metadata": {
  "kernelspec": {
   "name": "pycharm-9773527a",
   "language": "python",
   "display_name": "PyCharm (ml20py)"
  },
  "language_info": {
   "codemirror_mode": {
    "name": "ipython",
    "version": 2
   },
   "file_extension": ".py",
   "mimetype": "text/x-python",
   "name": "python",
   "nbconvert_exporter": "python",
   "pygments_lexer": "ipython2",
   "version": "2.7.6"
  }
 },
 "nbformat": 4,
 "nbformat_minor": 1
}