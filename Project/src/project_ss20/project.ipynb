{
 "cells": [
  {
   "cell_type": "code",
   "execution_count": 218,
   "outputs": [],
   "source": [
    "import numpy as np\n",
    "import matplotlib.pyplot as plt\n",
    "import pandas as pd\n",
    "from mpl_toolkits.mplot3d import Axes3D"
   ],
   "metadata": {
    "collapsed": false,
    "pycharm": {
     "name": "#%%\n"
    }
   }
  },
  {
   "cell_type": "markdown",
   "source": [
    "Read Data"
   ],
   "metadata": {
    "collapsed": false,
    "pycharm": {
     "name": "#%% md\n"
    }
   }
  },
  {
   "cell_type": "code",
   "execution_count": 219,
   "outputs": [],
   "source": [
    "path = \"../../data/\"\n",
    "file_name = path + \"Carbon-Data-ALPIDE-CHIP-Longitudinal/151218_04237.csv\"\n",
    "conv = {\"column\": lambda vol: vol.strip(\"[]\").split(\";\"),\n",
    "        \"row\": lambda vol: vol.strip(\"[]\").split(\";\")}\n",
    "df = pd.read_csv(file_name, converters=conv)"
   ],
   "metadata": {
    "collapsed": false,
    "pycharm": {
     "name": "#%%\n"
    }
   }
  },
  {
   "cell_type": "code",
   "execution_count": 220,
   "outputs": [
    {
     "data": {
      "text/plain": "   ru_id  frame_id  stave_id  chip_id      abs_time  bunch_counter  \\\n0      1       1.0         0        5  3.949260e+09             54   \n1      1       2.0         0        5  3.949380e+09            154   \n2      1       3.0         0        5  3.949500e+09             64   \n3      1       6.0         0        5  3.949860e+09            106   \n4      1      14.0         0        5  3.950820e+09             11   \n\n                                              column  \\\n0  [1, 1, 0, 0, 1, 1, 2, 3, 4, 4, 5, 5, 7, 7, 7, ...   \n1  [1, 1, 0, 0, 1, 1, 2, 3, 4, 4, 5, 5, 7, 7, 7, ...   \n2  [1, 1, 0, 0, 1, 1, 2, 3, 4, 4, 5, 5, 7, 7, 7, ...   \n3                                              [829]   \n4                               [957, 957, 958, 958]   \n\n                                                 row  \n0  [48, 239, 263, 297, 305, 370, 332, 433, 250, 3...  \n1  [48, 239, 263, 297, 305, 370, 332, 433, 250, 3...  \n2  [48, 239, 263, 297, 305, 370, 332, 433, 250, 3...  \n3                                              [478]  \n4                               [421, 422, 421, 422]  ",
      "text/html": "<div>\n<style scoped>\n    .dataframe tbody tr th:only-of-type {\n        vertical-align: middle;\n    }\n\n    .dataframe tbody tr th {\n        vertical-align: top;\n    }\n\n    .dataframe thead th {\n        text-align: right;\n    }\n</style>\n<table border=\"1\" class=\"dataframe\">\n  <thead>\n    <tr style=\"text-align: right;\">\n      <th></th>\n      <th>ru_id</th>\n      <th>frame_id</th>\n      <th>stave_id</th>\n      <th>chip_id</th>\n      <th>abs_time</th>\n      <th>bunch_counter</th>\n      <th>column</th>\n      <th>row</th>\n    </tr>\n  </thead>\n  <tbody>\n    <tr>\n      <th>0</th>\n      <td>1</td>\n      <td>1.0</td>\n      <td>0</td>\n      <td>5</td>\n      <td>3.949260e+09</td>\n      <td>54</td>\n      <td>[1, 1, 0, 0, 1, 1, 2, 3, 4, 4, 5, 5, 7, 7, 7, ...</td>\n      <td>[48, 239, 263, 297, 305, 370, 332, 433, 250, 3...</td>\n    </tr>\n    <tr>\n      <th>1</th>\n      <td>1</td>\n      <td>2.0</td>\n      <td>0</td>\n      <td>5</td>\n      <td>3.949380e+09</td>\n      <td>154</td>\n      <td>[1, 1, 0, 0, 1, 1, 2, 3, 4, 4, 5, 5, 7, 7, 7, ...</td>\n      <td>[48, 239, 263, 297, 305, 370, 332, 433, 250, 3...</td>\n    </tr>\n    <tr>\n      <th>2</th>\n      <td>1</td>\n      <td>3.0</td>\n      <td>0</td>\n      <td>5</td>\n      <td>3.949500e+09</td>\n      <td>64</td>\n      <td>[1, 1, 0, 0, 1, 1, 2, 3, 4, 4, 5, 5, 7, 7, 7, ...</td>\n      <td>[48, 239, 263, 297, 305, 370, 332, 433, 250, 3...</td>\n    </tr>\n    <tr>\n      <th>3</th>\n      <td>1</td>\n      <td>6.0</td>\n      <td>0</td>\n      <td>5</td>\n      <td>3.949860e+09</td>\n      <td>106</td>\n      <td>[829]</td>\n      <td>[478]</td>\n    </tr>\n    <tr>\n      <th>4</th>\n      <td>1</td>\n      <td>14.0</td>\n      <td>0</td>\n      <td>5</td>\n      <td>3.950820e+09</td>\n      <td>11</td>\n      <td>[957, 957, 958, 958]</td>\n      <td>[421, 422, 421, 422]</td>\n    </tr>\n  </tbody>\n</table>\n</div>"
     },
     "execution_count": 220,
     "metadata": {},
     "output_type": "execute_result"
    }
   ],
   "source": [
    "df.head()"
   ],
   "metadata": {
    "collapsed": false,
    "pycharm": {
     "name": "#%%\n"
    }
   }
  },
  {
   "cell_type": "markdown",
   "source": [
    "Dataframe describe"
   ],
   "metadata": {
    "collapsed": false,
    "pycharm": {
     "name": "#%% md\n"
    }
   }
  },
  {
   "cell_type": "code",
   "execution_count": 221,
   "outputs": [
    {
     "data": {
      "text/plain": "        ru_id      frame_id  stave_id  chip_id      abs_time  bunch_counter\ncount  4960.0  4.960000e+03    4960.0   4960.0  4.960000e+03    4960.000000\nmean      1.0  5.620522e+07       0.0      5.0  2.058590e+09     116.111492\nstd       0.0  3.745109e+07       0.0      0.0  1.207692e+09      69.589795\nmin       1.0  1.000000e+00       0.0      5.0  9.022900e+04       0.000000\n25%       1.0  2.303950e+07       0.0      5.0  1.161115e+09      57.000000\n50%       1.0  5.519960e+07       0.0      5.0  2.078060e+09     113.000000\n75%       1.0  8.220050e+07       0.0      5.0  3.117590e+09     174.000000\nmax       1.0  1.294870e+08       0.0      5.0  4.294940e+09     255.000000",
      "text/html": "<div>\n<style scoped>\n    .dataframe tbody tr th:only-of-type {\n        vertical-align: middle;\n    }\n\n    .dataframe tbody tr th {\n        vertical-align: top;\n    }\n\n    .dataframe thead th {\n        text-align: right;\n    }\n</style>\n<table border=\"1\" class=\"dataframe\">\n  <thead>\n    <tr style=\"text-align: right;\">\n      <th></th>\n      <th>ru_id</th>\n      <th>frame_id</th>\n      <th>stave_id</th>\n      <th>chip_id</th>\n      <th>abs_time</th>\n      <th>bunch_counter</th>\n    </tr>\n  </thead>\n  <tbody>\n    <tr>\n      <th>count</th>\n      <td>4960.0</td>\n      <td>4.960000e+03</td>\n      <td>4960.0</td>\n      <td>4960.0</td>\n      <td>4.960000e+03</td>\n      <td>4960.000000</td>\n    </tr>\n    <tr>\n      <th>mean</th>\n      <td>1.0</td>\n      <td>5.620522e+07</td>\n      <td>0.0</td>\n      <td>5.0</td>\n      <td>2.058590e+09</td>\n      <td>116.111492</td>\n    </tr>\n    <tr>\n      <th>std</th>\n      <td>0.0</td>\n      <td>3.745109e+07</td>\n      <td>0.0</td>\n      <td>0.0</td>\n      <td>1.207692e+09</td>\n      <td>69.589795</td>\n    </tr>\n    <tr>\n      <th>min</th>\n      <td>1.0</td>\n      <td>1.000000e+00</td>\n      <td>0.0</td>\n      <td>5.0</td>\n      <td>9.022900e+04</td>\n      <td>0.000000</td>\n    </tr>\n    <tr>\n      <th>25%</th>\n      <td>1.0</td>\n      <td>2.303950e+07</td>\n      <td>0.0</td>\n      <td>5.0</td>\n      <td>1.161115e+09</td>\n      <td>57.000000</td>\n    </tr>\n    <tr>\n      <th>50%</th>\n      <td>1.0</td>\n      <td>5.519960e+07</td>\n      <td>0.0</td>\n      <td>5.0</td>\n      <td>2.078060e+09</td>\n      <td>113.000000</td>\n    </tr>\n    <tr>\n      <th>75%</th>\n      <td>1.0</td>\n      <td>8.220050e+07</td>\n      <td>0.0</td>\n      <td>5.0</td>\n      <td>3.117590e+09</td>\n      <td>174.000000</td>\n    </tr>\n    <tr>\n      <th>max</th>\n      <td>1.0</td>\n      <td>1.294870e+08</td>\n      <td>0.0</td>\n      <td>5.0</td>\n      <td>4.294940e+09</td>\n      <td>255.000000</td>\n    </tr>\n  </tbody>\n</table>\n</div>"
     },
     "execution_count": 221,
     "metadata": {},
     "output_type": "execute_result"
    }
   ],
   "source": [
    "df.describe()"
   ],
   "metadata": {
    "collapsed": false,
    "pycharm": {
     "name": "#%%\n"
    }
   }
  },
  {
   "cell_type": "markdown",
   "source": [
    "Check what values are in the each column\n",
    "* Look at the values.\n",
    "* make a brief hypothesis."
   ],
   "metadata": {
    "collapsed": false,
    "pycharm": {
     "name": "#%% md\n"
    }
   }
  },
  {
   "cell_type": "code",
   "execution_count": 222,
   "outputs": [
    {
     "data": {
      "text/plain": "array([1], dtype=int64)"
     },
     "execution_count": 222,
     "metadata": {},
     "output_type": "execute_result"
    }
   ],
   "source": [
    "df['ru_id'].unique()"
   ],
   "metadata": {
    "collapsed": false,
    "pycharm": {
     "name": "#%%\n"
    }
   }
  },
  {
   "cell_type": "markdown",
   "source": [
    "* 'ru_id' column has only value '1'.\n",
    "* This value looks not important."
   ],
   "metadata": {
    "collapsed": false,
    "pycharm": {
     "name": "#%% md\n"
    }
   }
  },
  {
   "cell_type": "code",
   "execution_count": 223,
   "outputs": [
    {
     "data": {
      "text/plain": "array([1.00000e+00, 2.00000e+00, 3.00000e+00, ..., 1.29484e+08,\n       1.29486e+08, 1.29487e+08])"
     },
     "execution_count": 223,
     "metadata": {},
     "output_type": "execute_result"
    }
   ],
   "source": [
    "df['frame_id'].unique()"
   ],
   "metadata": {
    "collapsed": false,
    "pycharm": {
     "name": "#%%\n"
    }
   }
  },
  {
   "cell_type": "markdown",
   "source": [
    "* 'frame_id' column has a lot of values.\n",
    "* Still, I don't know what these data mean."
   ],
   "metadata": {
    "collapsed": false,
    "pycharm": {
     "name": "#%% md\n"
    }
   }
  },
  {
   "cell_type": "code",
   "execution_count": 224,
   "outputs": [
    {
     "data": {
      "text/plain": "array([0], dtype=int64)"
     },
     "execution_count": 224,
     "metadata": {},
     "output_type": "execute_result"
    }
   ],
   "source": [
    "df['stave_id'].unique()"
   ],
   "metadata": {
    "collapsed": false,
    "pycharm": {
     "name": "#%%\n"
    }
   }
  },
  {
   "cell_type": "markdown",
   "source": [
    "* 'ru_id' column has only value '0'.\n",
    "* This value looks not important."
   ],
   "metadata": {
    "collapsed": false,
    "pycharm": {
     "name": "#%% md\n"
    }
   }
  },
  {
   "cell_type": "code",
   "execution_count": 225,
   "outputs": [
    {
     "data": {
      "text/plain": "array([5], dtype=int64)"
     },
     "execution_count": 225,
     "metadata": {},
     "output_type": "execute_result"
    }
   ],
   "source": [
    "df['chip_id'].unique()"
   ],
   "metadata": {
    "collapsed": false,
    "pycharm": {
     "name": "#%%\n"
    }
   }
  },
  {
   "cell_type": "markdown",
   "source": [
    "* 'ru_id' column has only value '5'.\n",
    "* This value looks not important."
   ],
   "metadata": {
    "collapsed": false
   }
  },
  {
   "cell_type": "code",
   "execution_count": 226,
   "outputs": [
    {
     "data": {
      "text/plain": "array([3.94926e+09, 3.94938e+09, 3.94950e+09, ..., 2.65462e+09,\n       2.65474e+09, 2.65498e+09])"
     },
     "execution_count": 226,
     "metadata": {},
     "output_type": "execute_result"
    }
   ],
   "source": [
    "df['abs_time'].unique()"
   ],
   "metadata": {
    "collapsed": false,
    "pycharm": {
     "name": "#%%\n"
    }
   }
  },
  {
   "cell_type": "markdown",
   "source": [
    "* This value has a lot of data.\n",
    "* We can expect from column name that this value indicates the time."
   ],
   "metadata": {
    "collapsed": false,
    "pycharm": {
     "name": "#%% md\n"
    }
   }
  },
  {
   "cell_type": "code",
   "execution_count": 227,
   "outputs": [
    {
     "data": {
      "text/plain": "array([ 54, 154,  64, 106,  11,  82, 100,   9, 222, 183, 244,  63, 110,\n        24, 237, 190, 242, 137, 203, 151,   8, 217,  60, 122, 178, 235,\n       239,  92, 135, 196, 149,   6, 158,   1,  53, 128, 189, 194,  69,\n       105, 162, 114,  37,  80,  42,  94, 155, 102, 116, 159, 125, 238,\n       181,  91, 191, 134, 243, 247,  57, 218, 227,  84,  98,  41, 140,\n        68, 163,  25, 229, 147, 208, 226, 169, 231,  88, 131, 144, 165,\n        13,  74,  79, 187,  49,  20, 171, 133, 185,  38,  47, 103,  22,\n        30,  39, 101,  44,  19, 166,  71,  33, 146,  93,  55, 177,  87,\n       236, 179,  50, 202,  59,  73, 115, 167,  86,   0, 108, 170, 113,\n        83, 206,  77, 124,  43,  52, 212, 112, 182,  90,  65,  26, 252,\n       157,  76,  75, 193,   3,   7, 168,  35, 143, 204, 161, 132, 141,\n        97, 224, 176,  95,  99,  45, 201, 210, 219,  15, 129, 233,  31,\n       117, 121, 225, 175, 107,  21, 172, 111,  72, 186, 251, 109,  66,\n        61, 126,  36, 153, 120, 199, 104, 255, 230, 214, 232, 184, 145,\n       150,  16,  34,  23,  89, 195,   4, 160, 174,  96, 180,  12, 130,\n        32,  51,   5,  28, 136, 240, 192, 119, 142,  27,  40, 148, 241,\n       246, 164, 139,  85, 234, 213, 127,  29,  14,  56, 156,  18, 118,\n        70, 188, 173,   2,  58,  67, 216,  17,  10,  78, 123, 138,  48,\n       152, 248, 200, 209,  62, 245, 215,  81, 223, 211, 197, 228,  46,\n       249, 220, 250, 207, 205, 198, 253, 254, 221], dtype=int64)"
     },
     "execution_count": 227,
     "metadata": {},
     "output_type": "execute_result"
    }
   ],
   "source": [
    "df['bunch_counter'].unique()"
   ],
   "metadata": {
    "collapsed": false,
    "pycharm": {
     "name": "#%%\n"
    }
   }
  },
  {
   "cell_type": "markdown",
   "source": [
    "* This column has a lot of data.\n",
    "* Still, I don't know what these data mean."
   ],
   "metadata": {
    "collapsed": false,
    "pycharm": {
     "name": "#%% md\n"
    }
   }
  },
  {
   "cell_type": "code",
   "execution_count": 228,
   "outputs": [
    {
     "data": {
      "text/plain": "0       [1, 1, 0, 0, 1, 1, 2, 3, 4, 4, 5, 5, 7, 7, 7, ...\n1       [1, 1, 0, 0, 1, 1, 2, 3, 4, 4, 5, 5, 7, 7, 7, ...\n2       [1, 1, 0, 0, 1, 1, 2, 3, 4, 4, 5, 5, 7, 7, 7, ...\n3                                                   [829]\n4                                    [957, 957, 958, 958]\n                              ...                        \n4955                                           [232, 232]\n4956                                      [975, 974, 974]\n4957                                                [866]\n4958    [305, 307, 306, 307, 307, 306, 306, 307, 306, ...\n4959                                           [767, 768]\nName: column, Length: 4960, dtype: object"
     },
     "execution_count": 228,
     "metadata": {},
     "output_type": "execute_result"
    }
   ],
   "source": [
    "df['column']"
   ],
   "metadata": {
    "collapsed": false,
    "pycharm": {
     "name": "#%%\n"
    }
   }
  },
  {
   "cell_type": "markdown",
   "source": [
    "* This column has a lot of data.\n",
    "* Still, I don't know what these data mean."
   ],
   "metadata": {
    "collapsed": false,
    "pycharm": {
     "name": "#%% md\n"
    }
   }
  },
  {
   "cell_type": "code",
   "execution_count": 229,
   "outputs": [
    {
     "data": {
      "text/plain": "0       [48, 239, 263, 297, 305, 370, 332, 433, 250, 3...\n1       [48, 239, 263, 297, 305, 370, 332, 433, 250, 3...\n2       [48, 239, 263, 297, 305, 370, 332, 433, 250, 3...\n3                                                   [478]\n4                                    [421, 422, 421, 422]\n                              ...                        \n4955                                           [408, 409]\n4956                                         [69, 69, 70]\n4957                                                [346]\n4958    [250, 247, 248, 248, 249, 249, 250, 250, 251, ...\n4959                                             [59, 59]\nName: row, Length: 4960, dtype: object"
     },
     "execution_count": 229,
     "metadata": {},
     "output_type": "execute_result"
    }
   ],
   "source": [
    "df['row']"
   ],
   "metadata": {
    "collapsed": false,
    "pycharm": {
     "name": "#%%\n"
    }
   }
  },
  {
   "cell_type": "markdown",
   "source": [
    "* This column has a lot of data.\n",
    "* Still, I don't know what these data mean."
   ],
   "metadata": {
    "collapsed": false
   }
  },
  {
   "cell_type": "markdown",
   "source": [
    "I decided to drop 'ru_id', 'stave_id', 'chip_id' columns."
   ],
   "metadata": {
    "collapsed": false,
    "pycharm": {
     "name": "#%% md\n"
    }
   }
  },
  {
   "cell_type": "code",
   "execution_count": 230,
   "outputs": [],
   "source": [
    "df.drop(['ru_id', 'stave_id', 'chip_id'], axis=\"columns\", inplace=True)"
   ],
   "metadata": {
    "collapsed": false,
    "pycharm": {
     "name": "#%%\n"
    }
   }
  },
  {
   "cell_type": "markdown",
   "source": [
    "* Each row has 'column' and 'row' feature.\n",
    "* I can make a picture of protons with 'column' and 'row'\n",
    "* The graph below is for 6data in head and 6data in tail"
   ],
   "metadata": {
    "collapsed": false,
    "pycharm": {
     "name": "#%% md\n"
    }
   }
  },
  {
   "cell_type": "code",
   "execution_count": 231,
   "outputs": [
    {
     "data": {
      "text/plain": "<Figure size 720x1440 with 12 Axes>",
      "image/png": "[encoded data removed]"
     },
     "metadata": {
      "needs_background": "light"
     },
     "output_type": "display_data"
    }
   ],
   "source": [
    "fig,ax = plt.subplots(6,2,sharey=True)\n",
    "plt.suptitle(\"each frame data\")\n",
    "i=0\n",
    "j=0\n",
    "\n",
    "while i < 6:\n",
    "    row_df = df.iloc[i,:]\n",
    "    column = row_df['column']\n",
    "    column = list(map(float,column))\n",
    "    row = row_df['row']\n",
    "    row = list(map(float,row))\n",
    "    ax[int(i/2)][i%2].scatter(column,row, s=15)\n",
    "    ax[int(i/2)][i%2].set_xlabel(\"column\")\n",
    "    ax[int(i/2)][i%2].set_ylabel(\"row\")\n",
    "    i = i + 1\n",
    "i = i - 1\n",
    "while i >= 0:\n",
    "    row_df = df.iloc[4959-i,:]\n",
    "    column = row_df['column']\n",
    "    column = list(map(float,column))\n",
    "    row = row_df['row']\n",
    "    row = list(map(float,row))\n",
    "    ax[5-int(i/2)][1-(i%2)].scatter(column,row, s=15)\n",
    "    i = i - 1\n",
    "fig.set_size_inches(10,20)\n",
    "plt.show()"
   ],
   "metadata": {
    "collapsed": false,
    "pycharm": {
     "name": "#%%\n"
    }
   }
  },
  {
   "cell_type": "markdown",
   "source": [
    "* Still, I can't find what this graph want to show.\n",
    "* I will research more things about it."
   ],
   "metadata": {
    "collapsed": false,
    "pycharm": {
     "name": "#%% md\n"
    }
   }
  },
  {
   "cell_type": "markdown",
   "source": [
    "Make lists of 'column' and 'row' data into each column."
   ],
   "metadata": {
    "collapsed": false
   }
  },
  {
   "cell_type": "code",
   "execution_count": 232,
   "outputs": [],
   "source": [
    "def listcolumn_to_rows(df, explode):\n",
    "    idx = df.index.repeat(df[explode[0]].str.len())\n",
    "    df1 = pd.concat([\n",
    "        pd.DataFrame({x: np.concatenate(df[x].values)}) for x in explode], axis=1)\n",
    "    df1.index = idx\n",
    "    return df1.join(df.drop(explode, 1), how='left').reset_index(drop=True)\n",
    "\n",
    "df = listcolumn_to_rows(df, ['column', 'row'])"
   ],
   "metadata": {
    "collapsed": false,
    "pycharm": {
     "name": "#%%\n"
    }
   }
  },
  {
   "cell_type": "markdown",
   "source": [
    "Make 'column' and 'row' into float data."
   ],
   "metadata": {
    "collapsed": false,
    "pycharm": {
     "name": "#%% md\n"
    }
   }
  },
  {
   "cell_type": "code",
   "execution_count": 233,
   "outputs": [],
   "source": [
    "df = df.apply(pd.to_numeric)"
   ],
   "metadata": {
    "collapsed": false,
    "pycharm": {
     "name": "#%%\n"
    }
   }
  },
  {
   "cell_type": "code",
   "execution_count": 234,
   "outputs": [],
   "source": [
    "df.head()"
   ],
   "metadata": {
    "collapsed": false,
    "pycharm": {
     "name": "#%%\n"
    }
   }
  },
  {
   "cell_type": "markdown",
   "source": [
    "* If you see the data - 'abs_time', it is getting bigger except 2 values.\n",
    "* I can assume that there are three time reversals.\n",
    "* I assumed that three time reversals mean three independent examine."
   ],
   "metadata": {
    "collapsed": false,
    "pycharm": {
     "name": "#%% md\n"
    }
   }
  },
  {
   "cell_type": "code",
   "execution_count": 235,
   "outputs": [
    {
     "name": "stdout",
     "output_type": "stream",
     "text": [
      "     column  row  frame_id      abs_time  bunch_counter\n",
      "0         1   48       1.0  3.949260e+09             54\n",
      "1         1  239       1.0  3.949260e+09             54\n",
      "2         0  263       1.0  3.949260e+09             54\n",
      "3         0  297       1.0  3.949260e+09             54\n",
      "4         1  305       1.0  3.949260e+09             54\n",
      "...     ...  ...       ...           ...            ...\n",
      "1992    331  267    2854.0  4.291620e+09            144\n",
      "1993    221  187    2870.0  4.293540e+09            210\n",
      "1994    220  187    2870.0  4.293540e+09            210\n",
      "1995    220  188    2870.0  4.293540e+09            210\n",
      "1996    221  188    2870.0  4.293540e+09            210\n",
      "\n",
      "[1997 rows x 5 columns]\n",
      "Time reversals :  1997 th row abs_time:  4293540000.0  ->  737507.0\n",
      "        column  row    frame_id      abs_time  bunch_counter\n",
      "1997        77  232      2888.0  7.375070e+05            219\n",
      "1998        78  232      2888.0  7.375070e+05            219\n",
      "1999        78  233      2888.0  7.375070e+05            219\n",
      "2000       991  357      2893.0  1.337510e+06             15\n",
      "2001       991  358      2893.0  1.337510e+06             15\n",
      "...        ...  ...         ...           ...            ...\n",
      "1074281    634  339  45450900.0  4.292180e+09             50\n",
      "1074282    829  478  45450900.0  4.292300e+09            149\n",
      "1074283    786  304  45450900.0  4.292660e+09              2\n",
      "1074284    786  305  45450900.0  4.292660e+09              2\n",
      "1074285    829  478  45450900.0  4.294940e+09            111\n",
      "\n",
      "[1072289 rows x 5 columns]\n",
      "Time reversals :  1074286 th row abs_time:  4294940000.0  ->  90229.0\n",
      "        column  row    frame_id      abs_time  bunch_counter\n",
      "1074286    829  478  45450900.0  9.022900e+04            210\n",
      "1074287    993  395  45450900.0  1.170230e+06            215\n",
      "1074288    993  396  45450900.0  1.170230e+06            215\n",
      "1074289    802  175  45450900.0  2.970230e+06            115\n",
      "1074290    802  176  45450900.0  2.970230e+06            115\n",
      "...        ...  ...         ...           ...            ...\n",
      "1902070    430   46  82204400.0  3.778510e+09            205\n",
      "1902071    430   46  82204400.0  3.778510e+09            205\n",
      "1902072    430   46  82204400.0  3.778510e+09            205\n",
      "1902073    431   73  82204400.0  3.778510e+09            205\n",
      "1902074    426  430  82204400.0  3.778510e+09            205\n",
      "\n",
      "[827789 rows x 5 columns]\n",
      "Time reversals :  1902075 th row abs_time:  3778510000.0  ->  62381300.0\n",
      "number of the time reversals:  3\n"
     ]
    },
    {
     "data": {
      "text/plain": "<Figure size 864x216 with 3 Axes>",
      "image/png": "[encoded data removed]"
     },
     "metadata": {
      "needs_background": "light"
     },
     "output_type": "display_data"
    }
   ],
   "source": [
    "i = 0\n",
    "j = 0\n",
    "abstime = 0\n",
    "num = 0\n",
    "\n",
    "fig,ax = plt.subplots(1,3, sharey=True)\n",
    "plt.suptitle(\"id_x & id_y of each time reversals\")\n",
    "\n",
    "while i < 2094546:\n",
    "    temp = abstime\n",
    "    row_df = df.iloc[i,:]\n",
    "    abstime = row_df['abs_time']\n",
    "    if temp > abstime:\n",
    "        a = df.iloc[j:i,:]\n",
    "        j = i\n",
    "        ax[num].scatter(a['column'],a['row'],s=1)\n",
    "        num = num + 1\n",
    "        print(a)\n",
    "        print(\"Time reversals : \",i, \"th row abs_time: \", temp, \" -> \", abstime)\n",
    "    i = i + 1\n",
    "\n",
    "print(\"number of the time reversals: \",num)\n",
    "plt.xticks(np.arange(a['column'].min(), a['column'].max(),step=5))\n",
    "fig.set_size_inches(12,3)\n",
    "plt.show()"
   ],
   "metadata": {
    "collapsed": false,
    "pycharm": {
     "name": "#%%\n"
    }
   }
  },
  {
   "cell_type": "markdown",
   "source": [
    "* I divided data from time reversal sections.\n",
    "* But as we can see from the graph, the time reversal doesn't mean different examine."
   ],
   "metadata": {
    "collapsed": false,
    "pycharm": {
     "name": "#%% md\n"
    }
   }
  }
 ],
 "metadata": {
  "kernelspec": {
   "name": "pycharm-9773527a",
   "language": "python",
   "display_name": "PyCharm (ml20py)"
  },
  "language_info": {
   "codemirror_mode": {
    "name": "ipython",
    "version": 2
   },
   "file_extension": ".py",
   "mimetype": "text/x-python",
   "name": "python",
   "nbconvert_exporter": "python",
   "pygments_lexer": "ipython2",
   "version": "2.7.6"
  }
 },
 "nbformat": 4,
 "nbformat_minor": 0
}