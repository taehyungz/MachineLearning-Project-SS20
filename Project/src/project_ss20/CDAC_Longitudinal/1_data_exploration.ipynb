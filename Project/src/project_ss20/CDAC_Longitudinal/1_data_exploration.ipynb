{
 "cells": [
  {
   "cell_type": "code",
   "execution_count": 13,
   "outputs": [],
   "source": [
    "import numpy as np\n",
    "import matplotlib.pyplot as plt\n",
    "import pandas as pd\n",
    "from sklearn.cluster import KMeans\n",
    "from sklearn.model_selection import train_test_split\n",
    "from sklearn.neighbors import KNeighborsClassifier"
   ],
   "metadata": {
    "collapsed": false,
    "pycharm": {
     "name": "#%%\n"
    }
   }
  },
  {
   "cell_type": "markdown",
   "source": [
    "## Read Data"
   ],
   "metadata": {
    "collapsed": false
   }
  },
  {
   "cell_type": "code",
   "execution_count": 14,
   "outputs": [],
   "source": [
    "path = \"../../../data/\"\n",
    "file_name = path + \"Carbon-Data-ALPIDE-CHIP-Longitudinal/151218_04237.csv\"\n",
    "conv = {\"column\": lambda vol: vol.strip(\"[]\").split(\";\"),\n",
    "        \"row\": lambda vol: vol.strip(\"[]\").split(\";\")}\n",
    "df = pd.read_csv(file_name, converters=conv)"
   ],
   "metadata": {
    "collapsed": false,
    "pycharm": {
     "name": "#%%\n"
    }
   }
  },
  {
   "cell_type": "code",
   "execution_count": 15,
   "outputs": [
    {
     "data": {
      "text/plain": "   ru_id  frame_id  stave_id  chip_id      abs_time  bunch_counter  \\\n0      1       1.0         0        5  3.949260e+09             54   \n1      1       2.0         0        5  3.949380e+09            154   \n2      1       3.0         0        5  3.949500e+09             64   \n3      1       6.0         0        5  3.949860e+09            106   \n4      1      14.0         0        5  3.950820e+09             11   \n\n                                              column  \\\n0  [1, 1, 0, 0, 1, 1, 2, 3, 4, 4, 5, 5, 7, 7, 7, ...   \n1  [1, 1, 0, 0, 1, 1, 2, 3, 4, 4, 5, 5, 7, 7, 7, ...   \n2  [1, 1, 0, 0, 1, 1, 2, 3, 4, 4, 5, 5, 7, 7, 7, ...   \n3                                              [829]   \n4                               [957, 957, 958, 958]   \n\n                                                 row  \n0  [48, 239, 263, 297, 305, 370, 332, 433, 250, 3...  \n1  [48, 239, 263, 297, 305, 370, 332, 433, 250, 3...  \n2  [48, 239, 263, 297, 305, 370, 332, 433, 250, 3...  \n3                                              [478]  \n4                               [421, 422, 421, 422]  ",
      "text/html": "<div>\n<style scoped>\n    .dataframe tbody tr th:only-of-type {\n        vertical-align: middle;\n    }\n\n    .dataframe tbody tr th {\n        vertical-align: top;\n    }\n\n    .dataframe thead th {\n        text-align: right;\n    }\n</style>\n<table border=\"1\" class=\"dataframe\">\n  <thead>\n    <tr style=\"text-align: right;\">\n      <th></th>\n      <th>ru_id</th>\n      <th>frame_id</th>\n      <th>stave_id</th>\n      <th>chip_id</th>\n      <th>abs_time</th>\n      <th>bunch_counter</th>\n      <th>column</th>\n      <th>row</th>\n    </tr>\n  </thead>\n  <tbody>\n    <tr>\n      <th>0</th>\n      <td>1</td>\n      <td>1.0</td>\n      <td>0</td>\n      <td>5</td>\n      <td>3.949260e+09</td>\n      <td>54</td>\n      <td>[1, 1, 0, 0, 1, 1, 2, 3, 4, 4, 5, 5, 7, 7, 7, ...</td>\n      <td>[48, 239, 263, 297, 305, 370, 332, 433, 250, 3...</td>\n    </tr>\n    <tr>\n      <th>1</th>\n      <td>1</td>\n      <td>2.0</td>\n      <td>0</td>\n      <td>5</td>\n      <td>3.949380e+09</td>\n      <td>154</td>\n      <td>[1, 1, 0, 0, 1, 1, 2, 3, 4, 4, 5, 5, 7, 7, 7, ...</td>\n      <td>[48, 239, 263, 297, 305, 370, 332, 433, 250, 3...</td>\n    </tr>\n    <tr>\n      <th>2</th>\n      <td>1</td>\n      <td>3.0</td>\n      <td>0</td>\n      <td>5</td>\n      <td>3.949500e+09</td>\n      <td>64</td>\n      <td>[1, 1, 0, 0, 1, 1, 2, 3, 4, 4, 5, 5, 7, 7, 7, ...</td>\n      <td>[48, 239, 263, 297, 305, 370, 332, 433, 250, 3...</td>\n    </tr>\n    <tr>\n      <th>3</th>\n      <td>1</td>\n      <td>6.0</td>\n      <td>0</td>\n      <td>5</td>\n      <td>3.949860e+09</td>\n      <td>106</td>\n      <td>[829]</td>\n      <td>[478]</td>\n    </tr>\n    <tr>\n      <th>4</th>\n      <td>1</td>\n      <td>14.0</td>\n      <td>0</td>\n      <td>5</td>\n      <td>3.950820e+09</td>\n      <td>11</td>\n      <td>[957, 957, 958, 958]</td>\n      <td>[421, 422, 421, 422]</td>\n    </tr>\n  </tbody>\n</table>\n</div>"
     },
     "execution_count": 15,
     "metadata": {},
     "output_type": "execute_result"
    }
   ],
   "source": [
    "df.head()"
   ],
   "metadata": {
    "collapsed": false,
    "pycharm": {
     "name": "#%%\n"
    }
   }
  },
  {
   "cell_type": "markdown",
   "source": [
    "## Dataframe describe"
   ],
   "metadata": {
    "collapsed": false
   }
  },
  {
   "cell_type": "code",
   "execution_count": 16,
   "outputs": [
    {
     "data": {
      "text/plain": "        ru_id      frame_id  stave_id  chip_id      abs_time  bunch_counter\ncount  4960.0  4.960000e+03    4960.0   4960.0  4.960000e+03    4960.000000\nmean      1.0  5.620522e+07       0.0      5.0  2.058590e+09     116.111492\nstd       0.0  3.745109e+07       0.0      0.0  1.207692e+09      69.589795\nmin       1.0  1.000000e+00       0.0      5.0  9.022900e+04       0.000000\n25%       1.0  2.303950e+07       0.0      5.0  1.161115e+09      57.000000\n50%       1.0  5.519960e+07       0.0      5.0  2.078060e+09     113.000000\n75%       1.0  8.220050e+07       0.0      5.0  3.117590e+09     174.000000\nmax       1.0  1.294870e+08       0.0      5.0  4.294940e+09     255.000000",
      "text/html": "<div>\n<style scoped>\n    .dataframe tbody tr th:only-of-type {\n        vertical-align: middle;\n    }\n\n    .dataframe tbody tr th {\n        vertical-align: top;\n    }\n\n    .dataframe thead th {\n        text-align: right;\n    }\n</style>\n<table border=\"1\" class=\"dataframe\">\n  <thead>\n    <tr style=\"text-align: right;\">\n      <th></th>\n      <th>ru_id</th>\n      <th>frame_id</th>\n      <th>stave_id</th>\n      <th>chip_id</th>\n      <th>abs_time</th>\n      <th>bunch_counter</th>\n    </tr>\n  </thead>\n  <tbody>\n    <tr>\n      <th>count</th>\n      <td>4960.0</td>\n      <td>4.960000e+03</td>\n      <td>4960.0</td>\n      <td>4960.0</td>\n      <td>4.960000e+03</td>\n      <td>4960.000000</td>\n    </tr>\n    <tr>\n      <th>mean</th>\n      <td>1.0</td>\n      <td>5.620522e+07</td>\n      <td>0.0</td>\n      <td>5.0</td>\n      <td>2.058590e+09</td>\n      <td>116.111492</td>\n    </tr>\n    <tr>\n      <th>std</th>\n      <td>0.0</td>\n      <td>3.745109e+07</td>\n      <td>0.0</td>\n      <td>0.0</td>\n      <td>1.207692e+09</td>\n      <td>69.589795</td>\n    </tr>\n    <tr>\n      <th>min</th>\n      <td>1.0</td>\n      <td>1.000000e+00</td>\n      <td>0.0</td>\n      <td>5.0</td>\n      <td>9.022900e+04</td>\n      <td>0.000000</td>\n    </tr>\n    <tr>\n      <th>25%</th>\n      <td>1.0</td>\n      <td>2.303950e+07</td>\n      <td>0.0</td>\n      <td>5.0</td>\n      <td>1.161115e+09</td>\n      <td>57.000000</td>\n    </tr>\n    <tr>\n      <th>50%</th>\n      <td>1.0</td>\n      <td>5.519960e+07</td>\n      <td>0.0</td>\n      <td>5.0</td>\n      <td>2.078060e+09</td>\n      <td>113.000000</td>\n    </tr>\n    <tr>\n      <th>75%</th>\n      <td>1.0</td>\n      <td>8.220050e+07</td>\n      <td>0.0</td>\n      <td>5.0</td>\n      <td>3.117590e+09</td>\n      <td>174.000000</td>\n    </tr>\n    <tr>\n      <th>max</th>\n      <td>1.0</td>\n      <td>1.294870e+08</td>\n      <td>0.0</td>\n      <td>5.0</td>\n      <td>4.294940e+09</td>\n      <td>255.000000</td>\n    </tr>\n  </tbody>\n</table>\n</div>"
     },
     "execution_count": 16,
     "metadata": {},
     "output_type": "execute_result"
    }
   ],
   "source": [
    "df.describe()"
   ],
   "metadata": {
    "collapsed": false,
    "pycharm": {
     "name": "#%%\n"
    }
   }
  },
  {
   "cell_type": "markdown",
   "source": [
    "## Check what values are in the each column\n",
    "* Look at the values.\n",
    "* make a brief hypothesis."
   ],
   "metadata": {
    "collapsed": false
   }
  },
  {
   "cell_type": "code",
   "execution_count": 17,
   "outputs": [
    {
     "data": {
      "text/plain": "array([1], dtype=int64)"
     },
     "execution_count": 17,
     "metadata": {},
     "output_type": "execute_result"
    }
   ],
   "source": [
    "df['ru_id'].unique()"
   ],
   "metadata": {
    "collapsed": false,
    "pycharm": {
     "name": "#%%\n"
    }
   }
  },
  {
   "cell_type": "markdown",
   "source": [
    "* 'ru_id' column has only value '1'.\n",
    "* This value looks not important."
   ],
   "metadata": {
    "collapsed": false
   }
  },
  {
   "cell_type": "code",
   "execution_count": 18,
   "outputs": [
    {
     "name": "stdout",
     "output_type": "stream",
     "text": [
      "[1.00000e+00 2.00000e+00 3.00000e+00 ... 1.29484e+08 1.29486e+08\n",
      " 1.29487e+08]\n",
      "1128\n",
      "False\n"
     ]
    }
   ],
   "source": [
    "print(df['frame_id'].unique())\n",
    "print(df['frame_id'].nunique())\n",
    "print(df['frame_id'].isnull().values.any())"
   ],
   "metadata": {
    "collapsed": false,
    "pycharm": {
     "name": "#%%\n"
    }
   }
  },
  {
   "cell_type": "markdown",
   "source": [
    "* 'frame_id' column has a lot of values.\n",
    "* The number of data is 4960, and the number of union ``frame_id`` is 1128.\n",
    "* There is no null value.\n",
    "* This means there are data that have same ``frame_id``"
   ],
   "metadata": {
    "collapsed": false
   }
  },
  {
   "cell_type": "code",
   "execution_count": 19,
   "outputs": [
    {
     "data": {
      "text/plain": "array([0], dtype=int64)"
     },
     "execution_count": 19,
     "metadata": {},
     "output_type": "execute_result"
    }
   ],
   "source": [
    "df['stave_id'].unique()"
   ],
   "metadata": {
    "collapsed": false,
    "pycharm": {
     "name": "#%%\n"
    }
   }
  },
  {
   "cell_type": "markdown",
   "source": [
    "* 'ru_id' column has only value '0'.\n",
    "* This value looks not important."
   ],
   "metadata": {
    "collapsed": false
   }
  },
  {
   "cell_type": "code",
   "execution_count": 20,
   "outputs": [
    {
     "data": {
      "text/plain": "array([5], dtype=int64)"
     },
     "execution_count": 20,
     "metadata": {},
     "output_type": "execute_result"
    }
   ],
   "source": [
    "df['chip_id'].unique()"
   ],
   "metadata": {
    "collapsed": false,
    "pycharm": {
     "name": "#%%\n"
    }
   }
  },
  {
   "cell_type": "markdown",
   "source": [
    "* 'ru_id' column has only value '5'.\n",
    "* This value looks not important."
   ],
   "metadata": {
    "collapsed": false
   }
  },
  {
   "cell_type": "code",
   "execution_count": 21,
   "outputs": [
    {
     "name": "stdout",
     "output_type": "stream",
     "text": [
      "[3.94926e+09 3.94938e+09 3.94950e+09 ... 2.65462e+09 2.65474e+09\n",
      " 2.65498e+09]\n",
      "4784\n",
      "False\n"
     ]
    }
   ],
   "source": [
    "print(df['abs_time'].unique())\n",
    "print(df['abs_time'].nunique())\n",
    "print(df['abs_time'].isnull().values.any())"
   ],
   "metadata": {
    "collapsed": false,
    "pycharm": {
     "name": "#%%\n"
    }
   }
  },
  {
   "cell_type": "markdown",
   "source": [
    "* This value has a lot of data.\n",
    "* We can expect from column name that this value indicates the time.\n",
    "* There are no null value, and this means there are data that have same abs_time."
   ],
   "metadata": {
    "collapsed": false
   }
  },
  {
   "cell_type": "code",
   "execution_count": 22,
   "outputs": [
    {
     "name": "stdout",
     "output_type": "stream",
     "text": [
      "[ 54 154  64 106  11  82 100   9 222 183 244  63 110  24 237 190 242 137\n",
      " 203 151   8 217  60 122 178 235 239  92 135 196 149   6 158   1  53 128\n",
      " 189 194  69 105 162 114  37  80  42  94 155 102 116 159 125 238 181  91\n",
      " 191 134 243 247  57 218 227  84  98  41 140  68 163  25 229 147 208 226\n",
      " 169 231  88 131 144 165  13  74  79 187  49  20 171 133 185  38  47 103\n",
      "  22  30  39 101  44  19 166  71  33 146  93  55 177  87 236 179  50 202\n",
      "  59  73 115 167  86   0 108 170 113  83 206  77 124  43  52 212 112 182\n",
      "  90  65  26 252 157  76  75 193   3   7 168  35 143 204 161 132 141  97\n",
      " 224 176  95  99  45 201 210 219  15 129 233  31 117 121 225 175 107  21\n",
      " 172 111  72 186 251 109  66  61 126  36 153 120 199 104 255 230 214 232\n",
      " 184 145 150  16  34  23  89 195   4 160 174  96 180  12 130  32  51   5\n",
      "  28 136 240 192 119 142  27  40 148 241 246 164 139  85 234 213 127  29\n",
      "  14  56 156  18 118  70 188 173   2  58  67 216  17  10  78 123 138  48\n",
      " 152 248 200 209  62 245 215  81 223 211 197 228  46 249 220 250 207 205\n",
      " 198 253 254 221]\n",
      "256\n",
      "0\n",
      "255\n"
     ]
    }
   ],
   "source": [
    "print(df['bunch_counter'].unique())\n",
    "print(df['bunch_counter'].nunique())\n",
    "print(min(df['bunch_counter']))\n",
    "print(max(df['bunch_counter']))"
   ],
   "metadata": {
    "collapsed": false,
    "pycharm": {
     "name": "#%%\n"
    }
   }
  },
  {
   "cell_type": "markdown",
   "source": [
    "* This column has a lot of data.\n",
    "* The number of data is 4960, and the number of union ``bunch_counter`` is 256.\n",
    "* This means there are data that have same ``bunch_counter``\n",
    "* minimum ``bunch_counter`` is 0, and maximum `bunch_counter`` is 255."
   ],
   "metadata": {
    "collapsed": false
   }
  },
  {
   "cell_type": "markdown",
   "source": [
    "#### column and row data\n",
    "* column and row has many data. This looks like a photo at the moment(column: x axis, row : y axis)"
   ],
   "metadata": {
    "collapsed": false
   }
  },
  {
   "cell_type": "markdown",
   "source": [
    "### ○ data exploration conclusion\n",
    "* I decided to drop 'ru_id', 'stave_id', 'chip_id' columns."
   ],
   "metadata": {
    "collapsed": false
   }
  }
 ],
 "metadata": {
  "kernelspec": {
   "display_name": "Python 3",
   "language": "python",
   "name": "python3"
  },
  "language_info": {
   "codemirror_mode": {
    "name": "ipython",
    "version": 2
   },
   "file_extension": ".py",
   "mimetype": "text/x-python",
   "name": "python",
   "nbconvert_exporter": "python",
   "pygments_lexer": "ipython2",
   "version": "2.7.6"
  }
 },
 "nbformat": 4,
 "nbformat_minor": 0
}