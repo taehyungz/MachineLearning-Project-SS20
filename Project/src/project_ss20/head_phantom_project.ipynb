{
 "cells": [
  {
   "cell_type": "code",
   "execution_count": 66,
   "outputs": [],
   "source": [
    "import numpy as np\n",
    "import matplotlib.pyplot as plt\n",
    "import pandas as pd\n",
    "from mpl_toolkits.mplot3d import Axes3D"
   ],
   "metadata": {
    "collapsed": false,
    "pycharm": {
     "name": "#%%\n"
    }
   }
  },
  {
   "cell_type": "code",
   "execution_count": 67,
   "outputs": [],
   "source": [
    "path = \"../../data/\"\n",
    "file_name = path + \"2020-02-04_18-30_Proton_230MeV_Head-Phantom.csv\"\n",
    "df = pd.read_csv(file_name)"
   ],
   "metadata": {
    "collapsed": false,
    "pycharm": {
     "name": "#%%\n"
    }
   }
  },
  {
   "cell_type": "code",
   "execution_count": 68,
   "outputs": [
    {
     "data": {
      "text/plain": "        PDGEncoding        trackID       parentID  trackLocalTime  \\\ncount  5.923620e+05  592362.000000  592362.000000    5.923620e+05   \nmean   4.262781e+05      55.071431       8.036955    1.918916e-09   \nstd    2.062314e+07      52.047186      30.324252    2.543905e-09   \nmin   -1.100000e+01       1.000000       0.000000    1.798920e-18   \n25%    1.100000e+01       1.000000       0.000000    2.524015e-13   \n50%    1.100000e+01      71.000000       1.000000    1.626675e-11   \n75%    2.212000e+03      89.000000       1.000000    5.138240e-09   \nmax    1.000140e+09    7425.000000    3911.000000    9.404920e-08   \n\n               time           edep    stepLength   trackLength           posX  \\\ncount  5.923620e+05  592362.000000  5.923620e+05  5.923620e+05  592362.000000   \nmean   2.247425e-08       0.032154  2.166732e-02  3.147592e+02      -0.005138   \nstd    1.318819e-05       0.071127  2.814933e-02  4.160568e+02      21.599031   \nmin    3.633410e-09       0.000000  1.729800e-10  1.442530e-07    -134.942000   \n25%    5.101700e-09       0.000239  2.899017e-04  4.166675e-02      -9.345190   \n50%    5.340250e-09       0.004478  4.877765e-03  2.466810e+00      -0.097874   \n75%    5.618760e-09       0.050604  6.400670e-02  8.501480e+02       9.112973   \nmax    1.015030e-02       5.056730  2.736900e+00  9.668870e+02     134.986000   \n\n                posY  ...     sourcePosX     sourcePosY  sourcePosZ  sourceID  \\\ncount  592362.000000  ...  592362.000000  592362.000000    592362.0  592362.0   \nmean        0.310863  ...      -0.004198       0.046751      -500.0       0.0   \nstd        16.736630  ...       3.023666       3.021614         0.0       0.0   \nmin       -67.499200  ...     -11.012700     -11.634900      -500.0       0.0   \n25%        -9.023018  ...      -2.118090      -2.050950      -500.0       0.0   \n50%         0.059414  ...      -0.004840       0.057439      -500.0       0.0   \n75%         9.712042  ...       2.031590       2.106600      -500.0       0.0   \nmax        67.500000  ...      11.536600      11.089300      -500.0       0.0   \n\n             eventID     runID       axialPos  rotationAngle  comptVolName  \\\ncount  592362.000000  592362.0  592362.000000       592362.0           0.0   \nmean     5017.458579       0.0     430.775605            0.0           NaN   \nstd      2895.107978       0.0      68.981109            0.0           NaN   \nmin         0.000000       0.0     277.400000            0.0           NaN   \n25%      2514.000000       0.0     461.800000            0.0           NaN   \n50%      5045.000000       0.0     461.800000            0.0           NaN   \n75%      7522.000000       0.0     461.800000            0.0           NaN   \nmax      9999.000000       0.0     461.800000            0.0           NaN   \n\n       RayleighVolName  \ncount              0.0  \nmean               NaN  \nstd                NaN  \nmin                NaN  \n25%                NaN  \n50%                NaN  \n75%                NaN  \nmax                NaN  \n\n[8 rows x 39 columns]",
      "text/html": "<div>\n<style scoped>\n    .dataframe tbody tr th:only-of-type {\n        vertical-align: middle;\n    }\n\n    .dataframe tbody tr th {\n        vertical-align: top;\n    }\n\n    .dataframe thead th {\n        text-align: right;\n    }\n</style>\n<table border=\"1\" class=\"dataframe\">\n  <thead>\n    <tr style=\"text-align: right;\">\n      <th></th>\n      <th>PDGEncoding</th>\n      <th>trackID</th>\n      <th>parentID</th>\n      <th>trackLocalTime</th>\n      <th>time</th>\n      <th>edep</th>\n      <th>stepLength</th>\n      <th>trackLength</th>\n      <th>posX</th>\n      <th>posY</th>\n      <th>...</th>\n      <th>sourcePosX</th>\n      <th>sourcePosY</th>\n      <th>sourcePosZ</th>\n      <th>sourceID</th>\n      <th>eventID</th>\n      <th>runID</th>\n      <th>axialPos</th>\n      <th>rotationAngle</th>\n      <th>comptVolName</th>\n      <th>RayleighVolName</th>\n    </tr>\n  </thead>\n  <tbody>\n    <tr>\n      <th>count</th>\n      <td>5.923620e+05</td>\n      <td>592362.000000</td>\n      <td>592362.000000</td>\n      <td>5.923620e+05</td>\n      <td>5.923620e+05</td>\n      <td>592362.000000</td>\n      <td>5.923620e+05</td>\n      <td>5.923620e+05</td>\n      <td>592362.000000</td>\n      <td>592362.000000</td>\n      <td>...</td>\n      <td>592362.000000</td>\n      <td>592362.000000</td>\n      <td>592362.0</td>\n      <td>592362.0</td>\n      <td>592362.000000</td>\n      <td>592362.0</td>\n      <td>592362.000000</td>\n      <td>592362.0</td>\n      <td>0.0</td>\n      <td>0.0</td>\n    </tr>\n    <tr>\n      <th>mean</th>\n      <td>4.262781e+05</td>\n      <td>55.071431</td>\n      <td>8.036955</td>\n      <td>1.918916e-09</td>\n      <td>2.247425e-08</td>\n      <td>0.032154</td>\n      <td>2.166732e-02</td>\n      <td>3.147592e+02</td>\n      <td>-0.005138</td>\n      <td>0.310863</td>\n      <td>...</td>\n      <td>-0.004198</td>\n      <td>0.046751</td>\n      <td>-500.0</td>\n      <td>0.0</td>\n      <td>5017.458579</td>\n      <td>0.0</td>\n      <td>430.775605</td>\n      <td>0.0</td>\n      <td>NaN</td>\n      <td>NaN</td>\n    </tr>\n    <tr>\n      <th>std</th>\n      <td>2.062314e+07</td>\n      <td>52.047186</td>\n      <td>30.324252</td>\n      <td>2.543905e-09</td>\n      <td>1.318819e-05</td>\n      <td>0.071127</td>\n      <td>2.814933e-02</td>\n      <td>4.160568e+02</td>\n      <td>21.599031</td>\n      <td>16.736630</td>\n      <td>...</td>\n      <td>3.023666</td>\n      <td>3.021614</td>\n      <td>0.0</td>\n      <td>0.0</td>\n      <td>2895.107978</td>\n      <td>0.0</td>\n      <td>68.981109</td>\n      <td>0.0</td>\n      <td>NaN</td>\n      <td>NaN</td>\n    </tr>\n    <tr>\n      <th>min</th>\n      <td>-1.100000e+01</td>\n      <td>1.000000</td>\n      <td>0.000000</td>\n      <td>1.798920e-18</td>\n      <td>3.633410e-09</td>\n      <td>0.000000</td>\n      <td>1.729800e-10</td>\n      <td>1.442530e-07</td>\n      <td>-134.942000</td>\n      <td>-67.499200</td>\n      <td>...</td>\n      <td>-11.012700</td>\n      <td>-11.634900</td>\n      <td>-500.0</td>\n      <td>0.0</td>\n      <td>0.000000</td>\n      <td>0.0</td>\n      <td>277.400000</td>\n      <td>0.0</td>\n      <td>NaN</td>\n      <td>NaN</td>\n    </tr>\n    <tr>\n      <th>25%</th>\n      <td>1.100000e+01</td>\n      <td>1.000000</td>\n      <td>0.000000</td>\n      <td>2.524015e-13</td>\n      <td>5.101700e-09</td>\n      <td>0.000239</td>\n      <td>2.899017e-04</td>\n      <td>4.166675e-02</td>\n      <td>-9.345190</td>\n      <td>-9.023018</td>\n      <td>...</td>\n      <td>-2.118090</td>\n      <td>-2.050950</td>\n      <td>-500.0</td>\n      <td>0.0</td>\n      <td>2514.000000</td>\n      <td>0.0</td>\n      <td>461.800000</td>\n      <td>0.0</td>\n      <td>NaN</td>\n      <td>NaN</td>\n    </tr>\n    <tr>\n      <th>50%</th>\n      <td>1.100000e+01</td>\n      <td>71.000000</td>\n      <td>1.000000</td>\n      <td>1.626675e-11</td>\n      <td>5.340250e-09</td>\n      <td>0.004478</td>\n      <td>4.877765e-03</td>\n      <td>2.466810e+00</td>\n      <td>-0.097874</td>\n      <td>0.059414</td>\n      <td>...</td>\n      <td>-0.004840</td>\n      <td>0.057439</td>\n      <td>-500.0</td>\n      <td>0.0</td>\n      <td>5045.000000</td>\n      <td>0.0</td>\n      <td>461.800000</td>\n      <td>0.0</td>\n      <td>NaN</td>\n      <td>NaN</td>\n    </tr>\n    <tr>\n      <th>75%</th>\n      <td>2.212000e+03</td>\n      <td>89.000000</td>\n      <td>1.000000</td>\n      <td>5.138240e-09</td>\n      <td>5.618760e-09</td>\n      <td>0.050604</td>\n      <td>6.400670e-02</td>\n      <td>8.501480e+02</td>\n      <td>9.112973</td>\n      <td>9.712042</td>\n      <td>...</td>\n      <td>2.031590</td>\n      <td>2.106600</td>\n      <td>-500.0</td>\n      <td>0.0</td>\n      <td>7522.000000</td>\n      <td>0.0</td>\n      <td>461.800000</td>\n      <td>0.0</td>\n      <td>NaN</td>\n      <td>NaN</td>\n    </tr>\n    <tr>\n      <th>max</th>\n      <td>1.000140e+09</td>\n      <td>7425.000000</td>\n      <td>3911.000000</td>\n      <td>9.404920e-08</td>\n      <td>1.015030e-02</td>\n      <td>5.056730</td>\n      <td>2.736900e+00</td>\n      <td>9.668870e+02</td>\n      <td>134.986000</td>\n      <td>67.500000</td>\n      <td>...</td>\n      <td>11.536600</td>\n      <td>11.089300</td>\n      <td>-500.0</td>\n      <td>0.0</td>\n      <td>9999.000000</td>\n      <td>0.0</td>\n      <td>461.800000</td>\n      <td>0.0</td>\n      <td>NaN</td>\n      <td>NaN</td>\n    </tr>\n  </tbody>\n</table>\n<p>8 rows × 39 columns</p>\n</div>"
     },
     "execution_count": 68,
     "metadata": {},
     "output_type": "execute_result"
    }
   ],
   "source": [
    "df.describe()"
   ],
   "metadata": {
    "collapsed": false,
    "pycharm": {
     "name": "#%%\n"
    }
   }
  },
  {
   "cell_type": "markdown",
   "source": [
    "We can drop columns which have '0' std"
   ],
   "metadata": {
    "collapsed": false,
    "pycharm": {
     "name": "#%% md\n"
    }
   }
  },
  {
   "cell_type": "code",
   "execution_count": 69,
   "outputs": [
    {
     "data": {
      "text/plain": "        PDGEncoding        trackID       parentID  trackLocalTime  \\\ncount  5.923620e+05  592362.000000  592362.000000    5.923620e+05   \nmean   4.262781e+05      55.071431       8.036955    1.918916e-09   \nstd    2.062314e+07      52.047186      30.324252    2.543905e-09   \nmin   -1.100000e+01       1.000000       0.000000    1.798920e-18   \n25%    1.100000e+01       1.000000       0.000000    2.524015e-13   \n50%    1.100000e+01      71.000000       1.000000    1.626675e-11   \n75%    2.212000e+03      89.000000       1.000000    5.138240e-09   \nmax    1.000140e+09    7425.000000    3911.000000    9.404920e-08   \n\n               time           edep    stepLength   trackLength           posX  \\\ncount  5.923620e+05  592362.000000  5.923620e+05  5.923620e+05  592362.000000   \nmean   2.247425e-08       0.032154  2.166732e-02  3.147592e+02      -0.005138   \nstd    1.318819e-05       0.071127  2.814933e-02  4.160568e+02      21.599031   \nmin    3.633410e-09       0.000000  1.729800e-10  1.442530e-07    -134.942000   \n25%    5.101700e-09       0.000239  2.899017e-04  4.166675e-02      -9.345190   \n50%    5.340250e-09       0.004478  4.877765e-03  2.466810e+00      -0.097874   \n75%    5.618760e-09       0.050604  6.400670e-02  8.501480e+02       9.112973   \nmax    1.015030e-02       5.056730  2.736900e+00  9.668870e+02     134.986000   \n\n                posY  ...        momDirZ         baseID       level1ID  \\\ncount  592362.000000  ...  592362.000000  592362.000000  592362.000000   \nmean        0.310863  ...       0.457877       0.831755       8.609045   \nstd        16.736630  ...       0.608858       0.374084       7.178223   \nmin       -67.499200  ...      -0.999999       0.000000       0.000000   \n25%        -9.023018  ...       0.009476       1.000000       2.000000   \n50%         0.059414  ...       0.701264       1.000000       8.000000   \n75%         9.712042  ...       0.997560       1.000000      14.000000   \nmax        67.500000  ...       1.000000       1.000000      47.000000   \n\n            photonID  nCrystalCompton  nCrystalRayleigh     sourcePosX  \\\ncount  592362.000000    592362.000000     592362.000000  592362.000000   \nmean        0.284589         0.003086          0.000039      -0.004198   \nstd         0.691785         0.057937          0.006231       3.023666   \nmin         0.000000         0.000000          0.000000     -11.012700   \n25%         0.000000         0.000000          0.000000      -2.118090   \n50%         0.000000         0.000000          0.000000      -0.004840   \n75%         0.000000         0.000000          0.000000       2.031590   \nmax         2.000000         2.000000          1.000000      11.536600   \n\n          sourcePosY        eventID       axialPos  \ncount  592362.000000  592362.000000  592362.000000  \nmean        0.046751    5017.458579     430.775605  \nstd         3.021614    2895.107978      68.981109  \nmin       -11.634900       0.000000     277.400000  \n25%        -2.050950    2514.000000     461.800000  \n50%         0.057439    5045.000000     461.800000  \n75%         2.106600    7522.000000     461.800000  \nmax        11.089300    9999.000000     461.800000  \n\n[8 rows x 26 columns]",
      "text/html": "<div>\n<style scoped>\n    .dataframe tbody tr th:only-of-type {\n        vertical-align: middle;\n    }\n\n    .dataframe tbody tr th {\n        vertical-align: top;\n    }\n\n    .dataframe thead th {\n        text-align: right;\n    }\n</style>\n<table border=\"1\" class=\"dataframe\">\n  <thead>\n    <tr style=\"text-align: right;\">\n      <th></th>\n      <th>PDGEncoding</th>\n      <th>trackID</th>\n      <th>parentID</th>\n      <th>trackLocalTime</th>\n      <th>time</th>\n      <th>edep</th>\n      <th>stepLength</th>\n      <th>trackLength</th>\n      <th>posX</th>\n      <th>posY</th>\n      <th>...</th>\n      <th>momDirZ</th>\n      <th>baseID</th>\n      <th>level1ID</th>\n      <th>photonID</th>\n      <th>nCrystalCompton</th>\n      <th>nCrystalRayleigh</th>\n      <th>sourcePosX</th>\n      <th>sourcePosY</th>\n      <th>eventID</th>\n      <th>axialPos</th>\n    </tr>\n  </thead>\n  <tbody>\n    <tr>\n      <th>count</th>\n      <td>5.923620e+05</td>\n      <td>592362.000000</td>\n      <td>592362.000000</td>\n      <td>5.923620e+05</td>\n      <td>5.923620e+05</td>\n      <td>592362.000000</td>\n      <td>5.923620e+05</td>\n      <td>5.923620e+05</td>\n      <td>592362.000000</td>\n      <td>592362.000000</td>\n      <td>...</td>\n      <td>592362.000000</td>\n      <td>592362.000000</td>\n      <td>592362.000000</td>\n      <td>592362.000000</td>\n      <td>592362.000000</td>\n      <td>592362.000000</td>\n      <td>592362.000000</td>\n      <td>592362.000000</td>\n      <td>592362.000000</td>\n      <td>592362.000000</td>\n    </tr>\n    <tr>\n      <th>mean</th>\n      <td>4.262781e+05</td>\n      <td>55.071431</td>\n      <td>8.036955</td>\n      <td>1.918916e-09</td>\n      <td>2.247425e-08</td>\n      <td>0.032154</td>\n      <td>2.166732e-02</td>\n      <td>3.147592e+02</td>\n      <td>-0.005138</td>\n      <td>0.310863</td>\n      <td>...</td>\n      <td>0.457877</td>\n      <td>0.831755</td>\n      <td>8.609045</td>\n      <td>0.284589</td>\n      <td>0.003086</td>\n      <td>0.000039</td>\n      <td>-0.004198</td>\n      <td>0.046751</td>\n      <td>5017.458579</td>\n      <td>430.775605</td>\n    </tr>\n    <tr>\n      <th>std</th>\n      <td>2.062314e+07</td>\n      <td>52.047186</td>\n      <td>30.324252</td>\n      <td>2.543905e-09</td>\n      <td>1.318819e-05</td>\n      <td>0.071127</td>\n      <td>2.814933e-02</td>\n      <td>4.160568e+02</td>\n      <td>21.599031</td>\n      <td>16.736630</td>\n      <td>...</td>\n      <td>0.608858</td>\n      <td>0.374084</td>\n      <td>7.178223</td>\n      <td>0.691785</td>\n      <td>0.057937</td>\n      <td>0.006231</td>\n      <td>3.023666</td>\n      <td>3.021614</td>\n      <td>2895.107978</td>\n      <td>68.981109</td>\n    </tr>\n    <tr>\n      <th>min</th>\n      <td>-1.100000e+01</td>\n      <td>1.000000</td>\n      <td>0.000000</td>\n      <td>1.798920e-18</td>\n      <td>3.633410e-09</td>\n      <td>0.000000</td>\n      <td>1.729800e-10</td>\n      <td>1.442530e-07</td>\n      <td>-134.942000</td>\n      <td>-67.499200</td>\n      <td>...</td>\n      <td>-0.999999</td>\n      <td>0.000000</td>\n      <td>0.000000</td>\n      <td>0.000000</td>\n      <td>0.000000</td>\n      <td>0.000000</td>\n      <td>-11.012700</td>\n      <td>-11.634900</td>\n      <td>0.000000</td>\n      <td>277.400000</td>\n    </tr>\n    <tr>\n      <th>25%</th>\n      <td>1.100000e+01</td>\n      <td>1.000000</td>\n      <td>0.000000</td>\n      <td>2.524015e-13</td>\n      <td>5.101700e-09</td>\n      <td>0.000239</td>\n      <td>2.899017e-04</td>\n      <td>4.166675e-02</td>\n      <td>-9.345190</td>\n      <td>-9.023018</td>\n      <td>...</td>\n      <td>0.009476</td>\n      <td>1.000000</td>\n      <td>2.000000</td>\n      <td>0.000000</td>\n      <td>0.000000</td>\n      <td>0.000000</td>\n      <td>-2.118090</td>\n      <td>-2.050950</td>\n      <td>2514.000000</td>\n      <td>461.800000</td>\n    </tr>\n    <tr>\n      <th>50%</th>\n      <td>1.100000e+01</td>\n      <td>71.000000</td>\n      <td>1.000000</td>\n      <td>1.626675e-11</td>\n      <td>5.340250e-09</td>\n      <td>0.004478</td>\n      <td>4.877765e-03</td>\n      <td>2.466810e+00</td>\n      <td>-0.097874</td>\n      <td>0.059414</td>\n      <td>...</td>\n      <td>0.701264</td>\n      <td>1.000000</td>\n      <td>8.000000</td>\n      <td>0.000000</td>\n      <td>0.000000</td>\n      <td>0.000000</td>\n      <td>-0.004840</td>\n      <td>0.057439</td>\n      <td>5045.000000</td>\n      <td>461.800000</td>\n    </tr>\n    <tr>\n      <th>75%</th>\n      <td>2.212000e+03</td>\n      <td>89.000000</td>\n      <td>1.000000</td>\n      <td>5.138240e-09</td>\n      <td>5.618760e-09</td>\n      <td>0.050604</td>\n      <td>6.400670e-02</td>\n      <td>8.501480e+02</td>\n      <td>9.112973</td>\n      <td>9.712042</td>\n      <td>...</td>\n      <td>0.997560</td>\n      <td>1.000000</td>\n      <td>14.000000</td>\n      <td>0.000000</td>\n      <td>0.000000</td>\n      <td>0.000000</td>\n      <td>2.031590</td>\n      <td>2.106600</td>\n      <td>7522.000000</td>\n      <td>461.800000</td>\n    </tr>\n    <tr>\n      <th>max</th>\n      <td>1.000140e+09</td>\n      <td>7425.000000</td>\n      <td>3911.000000</td>\n      <td>9.404920e-08</td>\n      <td>1.015030e-02</td>\n      <td>5.056730</td>\n      <td>2.736900e+00</td>\n      <td>9.668870e+02</td>\n      <td>134.986000</td>\n      <td>67.500000</td>\n      <td>...</td>\n      <td>1.000000</td>\n      <td>1.000000</td>\n      <td>47.000000</td>\n      <td>2.000000</td>\n      <td>2.000000</td>\n      <td>1.000000</td>\n      <td>11.536600</td>\n      <td>11.089300</td>\n      <td>9999.000000</td>\n      <td>461.800000</td>\n    </tr>\n  </tbody>\n</table>\n<p>8 rows × 26 columns</p>\n</div>"
     },
     "execution_count": 69,
     "metadata": {},
     "output_type": "execute_result"
    }
   ],
   "source": [
    "df.drop(['sourcePosZ','sourceID','runID','nPhantomCompton',\n",
    "         'comptVolName','RayleighVolName','nPhantomRayleigh',\n",
    "         'primaryID','rotationAngle','level2ID','level3ID',\n",
    "         'level4ID','layerID'],\n",
    "        axis=\"columns\", inplace=True)\n",
    "df.describe()"
   ],
   "metadata": {
    "collapsed": false,
    "pycharm": {
     "name": "#%%\n"
    }
   }
  },
  {
   "cell_type": "code",
   "execution_count": 70,
   "outputs": [
    {
     "data": {
      "text/plain": "   PDGEncoding  trackID  parentID  trackLocalTime          time      edep  \\\n0       2212.0        1         0    4.352770e-09  4.352770e-09  0.007303   \n1       2212.0        1         0    4.352920e-09  4.352920e-09  0.017382   \n2       2212.0        1         0    4.685800e-09  4.685800e-09  0.010030   \n3       2212.0        1         0    4.685960e-09  4.685960e-09  0.017465   \n4       2212.0        1         0    5.041580e-09  5.041580e-09  0.073249   \n\n   stepLength  trackLength     posX     posY  ...  level1ID  photonID  \\\n0    0.014001      725.264  4.30955 -2.88316  ...         0         0   \n1    0.025002      725.289  4.30985 -2.88330  ...         0         0   \n2    0.014001      777.667  4.78986 -3.08625  ...         1         0   \n3    0.025001      777.692  4.79011 -3.08631  ...         1         0   \n4    0.064023      833.574  5.31129 -3.12473  ...         0         0   \n\n   nCrystalCompton  nCrystalRayleigh  sourcePosX  sourcePosY  eventID  \\\n0                0                 0   -0.060944   -0.852924        0   \n1                0                 0   -0.060944   -0.852924        0   \n2                0                 0   -0.060944   -0.852924        0   \n3                0                 0   -0.060944   -0.852924        0   \n4                0                 0   -0.060944   -0.852924        0   \n\n   axialPos                     volumeID     processName  \n0     277.4  [0;1;0;2;-1;-1;-1;-1;-1;-1]  Transportation  \n1     277.4  [0;1;0;3;-1;-1;-1;-1;-1;-1]  Transportation  \n2     277.4  [0;1;1;2;-1;-1;-1;-1;-1;-1]  Transportation  \n3     277.4  [0;1;1;3;-1;-1;-1;-1;-1;-1]  Transportation  \n4     461.8  [0;2;0;4;-1;-1;-1;-1;-1;-1]  Transportation  \n\n[5 rows x 28 columns]",
      "text/html": "<div>\n<style scoped>\n    .dataframe tbody tr th:only-of-type {\n        vertical-align: middle;\n    }\n\n    .dataframe tbody tr th {\n        vertical-align: top;\n    }\n\n    .dataframe thead th {\n        text-align: right;\n    }\n</style>\n<table border=\"1\" class=\"dataframe\">\n  <thead>\n    <tr style=\"text-align: right;\">\n      <th></th>\n      <th>PDGEncoding</th>\n      <th>trackID</th>\n      <th>parentID</th>\n      <th>trackLocalTime</th>\n      <th>time</th>\n      <th>edep</th>\n      <th>stepLength</th>\n      <th>trackLength</th>\n      <th>posX</th>\n      <th>posY</th>\n      <th>...</th>\n      <th>level1ID</th>\n      <th>photonID</th>\n      <th>nCrystalCompton</th>\n      <th>nCrystalRayleigh</th>\n      <th>sourcePosX</th>\n      <th>sourcePosY</th>\n      <th>eventID</th>\n      <th>axialPos</th>\n      <th>volumeID</th>\n      <th>processName</th>\n    </tr>\n  </thead>\n  <tbody>\n    <tr>\n      <th>0</th>\n      <td>2212.0</td>\n      <td>1</td>\n      <td>0</td>\n      <td>4.352770e-09</td>\n      <td>4.352770e-09</td>\n      <td>0.007303</td>\n      <td>0.014001</td>\n      <td>725.264</td>\n      <td>4.30955</td>\n      <td>-2.88316</td>\n      <td>...</td>\n      <td>0</td>\n      <td>0</td>\n      <td>0</td>\n      <td>0</td>\n      <td>-0.060944</td>\n      <td>-0.852924</td>\n      <td>0</td>\n      <td>277.4</td>\n      <td>[0;1;0;2;-1;-1;-1;-1;-1;-1]</td>\n      <td>Transportation</td>\n    </tr>\n    <tr>\n      <th>1</th>\n      <td>2212.0</td>\n      <td>1</td>\n      <td>0</td>\n      <td>4.352920e-09</td>\n      <td>4.352920e-09</td>\n      <td>0.017382</td>\n      <td>0.025002</td>\n      <td>725.289</td>\n      <td>4.30985</td>\n      <td>-2.88330</td>\n      <td>...</td>\n      <td>0</td>\n      <td>0</td>\n      <td>0</td>\n      <td>0</td>\n      <td>-0.060944</td>\n      <td>-0.852924</td>\n      <td>0</td>\n      <td>277.4</td>\n      <td>[0;1;0;3;-1;-1;-1;-1;-1;-1]</td>\n      <td>Transportation</td>\n    </tr>\n    <tr>\n      <th>2</th>\n      <td>2212.0</td>\n      <td>1</td>\n      <td>0</td>\n      <td>4.685800e-09</td>\n      <td>4.685800e-09</td>\n      <td>0.010030</td>\n      <td>0.014001</td>\n      <td>777.667</td>\n      <td>4.78986</td>\n      <td>-3.08625</td>\n      <td>...</td>\n      <td>1</td>\n      <td>0</td>\n      <td>0</td>\n      <td>0</td>\n      <td>-0.060944</td>\n      <td>-0.852924</td>\n      <td>0</td>\n      <td>277.4</td>\n      <td>[0;1;1;2;-1;-1;-1;-1;-1;-1]</td>\n      <td>Transportation</td>\n    </tr>\n    <tr>\n      <th>3</th>\n      <td>2212.0</td>\n      <td>1</td>\n      <td>0</td>\n      <td>4.685960e-09</td>\n      <td>4.685960e-09</td>\n      <td>0.017465</td>\n      <td>0.025001</td>\n      <td>777.692</td>\n      <td>4.79011</td>\n      <td>-3.08631</td>\n      <td>...</td>\n      <td>1</td>\n      <td>0</td>\n      <td>0</td>\n      <td>0</td>\n      <td>-0.060944</td>\n      <td>-0.852924</td>\n      <td>0</td>\n      <td>277.4</td>\n      <td>[0;1;1;3;-1;-1;-1;-1;-1;-1]</td>\n      <td>Transportation</td>\n    </tr>\n    <tr>\n      <th>4</th>\n      <td>2212.0</td>\n      <td>1</td>\n      <td>0</td>\n      <td>5.041580e-09</td>\n      <td>5.041580e-09</td>\n      <td>0.073249</td>\n      <td>0.064023</td>\n      <td>833.574</td>\n      <td>5.31129</td>\n      <td>-3.12473</td>\n      <td>...</td>\n      <td>0</td>\n      <td>0</td>\n      <td>0</td>\n      <td>0</td>\n      <td>-0.060944</td>\n      <td>-0.852924</td>\n      <td>0</td>\n      <td>461.8</td>\n      <td>[0;2;0;4;-1;-1;-1;-1;-1;-1]</td>\n      <td>Transportation</td>\n    </tr>\n  </tbody>\n</table>\n<p>5 rows × 28 columns</p>\n</div>"
     },
     "execution_count": 70,
     "metadata": {},
     "output_type": "execute_result"
    }
   ],
   "source": [
    "df.head()"
   ],
   "metadata": {
    "collapsed": false,
    "pycharm": {
     "name": "#%%\n"
    }
   }
  },
  {
   "cell_type": "code",
   "execution_count": 71,
   "outputs": [
    {
     "data": {
      "text/plain": "array([   0,    1,  109,   92,  108,   99,  103,   97,   80,   96,   81,\n        107,  212,   64,   27,   84,   85,   77,  176,   76,  110,   73,\n         90,  117,  127,   86,   28,   79,   78,   93,   30,   68,   70,\n         83,   74,   88,   91,   62,  115,   95,  154,  106,  105,  118,\n         22,  128,   65,   89,   52,   94,   53,  119,  121,   21,   26,\n         87,  114,   98,  112,   43,   67,  120,  252,  251,   75,  129,\n        124,   72,  104,   58,   23,   69,  144,   82,  131,  100,  370,\n        380,  116,  102,  113,  101,   16,   56,   38,   37,  126,  122,\n        125,   71,  111,   61,   55,   18,   33,   66,   24,   63,  224,\n         17,  136,  138,   54,   45,   19,   25,  123,  133,   57,   29,\n        471,  130,  135,   49,  197,   60,   50,   36,  132,   51,   44,\n         31,   10,   35,  139,  148,  152,  137,  141,  134,   59,  599,\n        231,  233, 2782,  210,  218,  143,  142,   34,  182,  181,   20,\n       3911,  155,  153,  243], dtype=int64)"
     },
     "execution_count": 71,
     "metadata": {},
     "output_type": "execute_result"
    }
   ],
   "source": [
    "df['parentID'].unique()"
   ],
   "metadata": {
    "collapsed": false,
    "pycharm": {
     "name": "#%%\n"
    }
   }
  }
 ],
 "metadata": {
  "kernelspec": {
   "display_name": "Python 3",
   "language": "python",
   "name": "python3"
  },
  "language_info": {
   "codemirror_mode": {
    "name": "ipython",
    "version": 2
   },
   "file_extension": ".py",
   "mimetype": "text/x-python",
   "name": "python",
   "nbconvert_exporter": "python",
   "pygments_lexer": "ipython2",
   "version": "2.7.6"
  }
 },
 "nbformat": 4,
 "nbformat_minor": 0
}