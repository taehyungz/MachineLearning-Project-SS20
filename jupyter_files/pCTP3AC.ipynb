{
 "cells": [
  {
   "cell_type": "code",
   "execution_count": 143,
   "metadata": {
    "collapsed": true
   },
   "outputs": [],
   "source": [
    "import pandas as pd\n",
    "import numpy as np\n",
    "from matplotlib import pyplot as plt"
   ]
  },
  {
   "cell_type": "code",
   "execution_count": 144,
   "outputs": [
    {
     "data": {
      "text/plain": "   id_plane   id_x   id_y  i_event  i_time_stamp\n0         1  492.0  310.0       32         21600\n1         1  493.0  310.0       32         21600\n2         1  493.0  311.0       32         21600\n3         1  492.0  311.0       32         21600\n4         1  493.0  312.0       32         21600",
      "text/html": "<div>\n<style scoped>\n    .dataframe tbody tr th:only-of-type {\n        vertical-align: middle;\n    }\n\n    .dataframe tbody tr th {\n        vertical-align: top;\n    }\n\n    .dataframe thead th {\n        text-align: right;\n    }\n</style>\n<table border=\"1\" class=\"dataframe\">\n  <thead>\n    <tr style=\"text-align: right;\">\n      <th></th>\n      <th>id_plane</th>\n      <th>id_x</th>\n      <th>id_y</th>\n      <th>i_event</th>\n      <th>i_time_stamp</th>\n    </tr>\n  </thead>\n  <tbody>\n    <tr>\n      <th>0</th>\n      <td>1</td>\n      <td>492.0</td>\n      <td>310.0</td>\n      <td>32</td>\n      <td>21600</td>\n    </tr>\n    <tr>\n      <th>1</th>\n      <td>1</td>\n      <td>493.0</td>\n      <td>310.0</td>\n      <td>32</td>\n      <td>21600</td>\n    </tr>\n    <tr>\n      <th>2</th>\n      <td>1</td>\n      <td>493.0</td>\n      <td>311.0</td>\n      <td>32</td>\n      <td>21600</td>\n    </tr>\n    <tr>\n      <th>3</th>\n      <td>1</td>\n      <td>492.0</td>\n      <td>311.0</td>\n      <td>32</td>\n      <td>21600</td>\n    </tr>\n    <tr>\n      <th>4</th>\n      <td>1</td>\n      <td>493.0</td>\n      <td>312.0</td>\n      <td>32</td>\n      <td>21600</td>\n    </tr>\n  </tbody>\n</table>\n</div>"
     },
     "execution_count": 144,
     "metadata": {},
     "output_type": "execute_result"
    }
   ],
   "source": [
    "df = pd.read_csv(\"../Data_Sets_for_Final_Projects/pCT-Proton-3-ALPIDE-Chips/pctdata.csv\")\n",
    "df.head()"
   ],
   "metadata": {
    "collapsed": false,
    "pycharm": {
     "name": "#%%\n"
    }
   }
  },
  {
   "cell_type": "code",
   "execution_count": 145,
   "outputs": [],
   "source": [
    "df[\"id_plane\"].unique()\n",
    "df0 = df[df[\"id_plane\"]==0]\n",
    "df1 = df[df[\"id_plane\"]==1]\n",
    "df2 = df[df[\"id_plane\"]==2]"
   ],
   "metadata": {
    "collapsed": false,
    "pycharm": {
     "name": "#%%\n"
    }
   }
  },
  {
   "cell_type": "code",
   "execution_count": 146,
   "outputs": [
    {
     "name": "stdout",
     "output_type": "stream",
     "text": [
      "<class 'pandas.core.frame.DataFrame'>\n",
      "Int64Index: 74595 entries, 60 to 220137\n",
      "Data columns (total 5 columns):\n",
      " #   Column        Non-Null Count  Dtype  \n",
      "---  ------        --------------  -----  \n",
      " 0   id_plane      74595 non-null  int64  \n",
      " 1   id_x          74595 non-null  float64\n",
      " 2   id_y          74595 non-null  float64\n",
      " 3   i_event       74595 non-null  int64  \n",
      " 4   i_time_stamp  74595 non-null  int64  \n",
      "dtypes: float64(2), int64(3)\n",
      "memory usage: 3.4 MB\n"
     ]
    }
   ],
   "source": [
    "df0.info()"
   ],
   "metadata": {
    "collapsed": false,
    "pycharm": {
     "name": "#%%\n"
    }
   }
  },
  {
   "cell_type": "code",
   "execution_count": 147,
   "outputs": [
    {
     "name": "stdout",
     "output_type": "stream",
     "text": [
      "<class 'pandas.core.frame.DataFrame'>\n",
      "Int64Index: 75992 entries, 0 to 220089\n",
      "Data columns (total 5 columns):\n",
      " #   Column        Non-Null Count  Dtype  \n",
      "---  ------        --------------  -----  \n",
      " 0   id_plane      75992 non-null  int64  \n",
      " 1   id_x          75992 non-null  float64\n",
      " 2   id_y          75992 non-null  float64\n",
      " 3   i_event       75992 non-null  int64  \n",
      " 4   i_time_stamp  75992 non-null  int64  \n",
      "dtypes: float64(2), int64(3)\n",
      "memory usage: 3.5 MB\n"
     ]
    }
   ],
   "source": [
    "df1.info()"
   ],
   "metadata": {
    "collapsed": false,
    "pycharm": {
     "name": "#%%\n"
    }
   }
  },
  {
   "cell_type": "code",
   "execution_count": 148,
   "outputs": [
    {
     "name": "stdout",
     "output_type": "stream",
     "text": [
      "<class 'pandas.core.frame.DataFrame'>\n",
      "Int64Index: 69551 entries, 28 to 220065\n",
      "Data columns (total 5 columns):\n",
      " #   Column        Non-Null Count  Dtype  \n",
      "---  ------        --------------  -----  \n",
      " 0   id_plane      69551 non-null  int64  \n",
      " 1   id_x          69551 non-null  float64\n",
      " 2   id_y          69551 non-null  float64\n",
      " 3   i_event       69551 non-null  int64  \n",
      " 4   i_time_stamp  69551 non-null  int64  \n",
      "dtypes: float64(2), int64(3)\n",
      "memory usage: 3.2 MB\n"
     ]
    }
   ],
   "source": [
    "df2.info()"
   ],
   "metadata": {
    "collapsed": false,
    "pycharm": {
     "name": "#%%\n"
    }
   }
  },
  {
   "cell_type": "code",
   "execution_count": 149,
   "outputs": [
    {
     "data": {
      "text/plain": "       id_plane          id_x          id_y        i_event  i_time_stamp\ncount   74595.0  74595.000000  74595.000000   74595.000000  7.459500e+04\nmean        0.0    540.883330    294.449119  121856.782948  9.743549e+09\nstd         0.0    161.139152     96.093300   69033.225012  5.522318e+09\nmin         0.0      0.000000      0.000000      55.000000  3.999800e+04\n25%         0.0    496.000000    253.000000   62256.000000  4.975976e+09\n50%         0.0    539.000000    294.000000  125413.000000  1.003188e+10\n75%         0.0    587.000000    342.000000  179191.000000  1.432788e+10\nmax         0.0   1023.000000    511.000000  240306.000000  1.921583e+10",
      "text/html": "<div>\n<style scoped>\n    .dataframe tbody tr th:only-of-type {\n        vertical-align: middle;\n    }\n\n    .dataframe tbody tr th {\n        vertical-align: top;\n    }\n\n    .dataframe thead th {\n        text-align: right;\n    }\n</style>\n<table border=\"1\" class=\"dataframe\">\n  <thead>\n    <tr style=\"text-align: right;\">\n      <th></th>\n      <th>id_plane</th>\n      <th>id_x</th>\n      <th>id_y</th>\n      <th>i_event</th>\n      <th>i_time_stamp</th>\n    </tr>\n  </thead>\n  <tbody>\n    <tr>\n      <th>count</th>\n      <td>74595.0</td>\n      <td>74595.000000</td>\n      <td>74595.000000</td>\n      <td>74595.000000</td>\n      <td>7.459500e+04</td>\n    </tr>\n    <tr>\n      <th>mean</th>\n      <td>0.0</td>\n      <td>540.883330</td>\n      <td>294.449119</td>\n      <td>121856.782948</td>\n      <td>9.743549e+09</td>\n    </tr>\n    <tr>\n      <th>std</th>\n      <td>0.0</td>\n      <td>161.139152</td>\n      <td>96.093300</td>\n      <td>69033.225012</td>\n      <td>5.522318e+09</td>\n    </tr>\n    <tr>\n      <th>min</th>\n      <td>0.0</td>\n      <td>0.000000</td>\n      <td>0.000000</td>\n      <td>55.000000</td>\n      <td>3.999800e+04</td>\n    </tr>\n    <tr>\n      <th>25%</th>\n      <td>0.0</td>\n      <td>496.000000</td>\n      <td>253.000000</td>\n      <td>62256.000000</td>\n      <td>4.975976e+09</td>\n    </tr>\n    <tr>\n      <th>50%</th>\n      <td>0.0</td>\n      <td>539.000000</td>\n      <td>294.000000</td>\n      <td>125413.000000</td>\n      <td>1.003188e+10</td>\n    </tr>\n    <tr>\n      <th>75%</th>\n      <td>0.0</td>\n      <td>587.000000</td>\n      <td>342.000000</td>\n      <td>179191.000000</td>\n      <td>1.432788e+10</td>\n    </tr>\n    <tr>\n      <th>max</th>\n      <td>0.0</td>\n      <td>1023.000000</td>\n      <td>511.000000</td>\n      <td>240306.000000</td>\n      <td>1.921583e+10</td>\n    </tr>\n  </tbody>\n</table>\n</div>"
     },
     "execution_count": 149,
     "metadata": {},
     "output_type": "execute_result"
    }
   ],
   "source": [
    "df0.describe()"
   ],
   "metadata": {
    "collapsed": false,
    "pycharm": {
     "name": "#%%\n"
    }
   }
  },
  {
   "cell_type": "code",
   "execution_count": 150,
   "outputs": [
    {
     "data": {
      "text/plain": "       id_plane          id_x          id_y        i_event  i_time_stamp\ncount   75992.0  75992.000000  75992.000000   75992.000000  7.599200e+04\nmean        1.0    541.410333    292.358103  122215.512133  9.772224e+09\nstd         0.0    165.692269     96.156933   68935.610864  5.514499e+09\nmin         1.0      0.000000      0.000000      32.000000  2.160000e+04\n25%         1.0    497.000000    253.000000   62998.000000  5.032009e+09\n50%         1.0    540.000000    293.000000  125502.000000  1.003195e+10\n75%         1.0    587.000000    339.000000  179394.000000  1.434388e+10\nmax         1.0   1023.000000    511.000000  240248.000000  1.921578e+10",
      "text/html": "<div>\n<style scoped>\n    .dataframe tbody tr th:only-of-type {\n        vertical-align: middle;\n    }\n\n    .dataframe tbody tr th {\n        vertical-align: top;\n    }\n\n    .dataframe thead th {\n        text-align: right;\n    }\n</style>\n<table border=\"1\" class=\"dataframe\">\n  <thead>\n    <tr style=\"text-align: right;\">\n      <th></th>\n      <th>id_plane</th>\n      <th>id_x</th>\n      <th>id_y</th>\n      <th>i_event</th>\n      <th>i_time_stamp</th>\n    </tr>\n  </thead>\n  <tbody>\n    <tr>\n      <th>count</th>\n      <td>75992.0</td>\n      <td>75992.000000</td>\n      <td>75992.000000</td>\n      <td>75992.000000</td>\n      <td>7.599200e+04</td>\n    </tr>\n    <tr>\n      <th>mean</th>\n      <td>1.0</td>\n      <td>541.410333</td>\n      <td>292.358103</td>\n      <td>122215.512133</td>\n      <td>9.772224e+09</td>\n    </tr>\n    <tr>\n      <th>std</th>\n      <td>0.0</td>\n      <td>165.692269</td>\n      <td>96.156933</td>\n      <td>68935.610864</td>\n      <td>5.514499e+09</td>\n    </tr>\n    <tr>\n      <th>min</th>\n      <td>1.0</td>\n      <td>0.000000</td>\n      <td>0.000000</td>\n      <td>32.000000</td>\n      <td>2.160000e+04</td>\n    </tr>\n    <tr>\n      <th>25%</th>\n      <td>1.0</td>\n      <td>497.000000</td>\n      <td>253.000000</td>\n      <td>62998.000000</td>\n      <td>5.032009e+09</td>\n    </tr>\n    <tr>\n      <th>50%</th>\n      <td>1.0</td>\n      <td>540.000000</td>\n      <td>293.000000</td>\n      <td>125502.000000</td>\n      <td>1.003195e+10</td>\n    </tr>\n    <tr>\n      <th>75%</th>\n      <td>1.0</td>\n      <td>587.000000</td>\n      <td>339.000000</td>\n      <td>179394.000000</td>\n      <td>1.434388e+10</td>\n    </tr>\n    <tr>\n      <th>max</th>\n      <td>1.0</td>\n      <td>1023.000000</td>\n      <td>511.000000</td>\n      <td>240248.000000</td>\n      <td>1.921578e+10</td>\n    </tr>\n  </tbody>\n</table>\n</div>"
     },
     "execution_count": 150,
     "metadata": {},
     "output_type": "execute_result"
    }
   ],
   "source": [
    "df1.describe()"
   ],
   "metadata": {
    "collapsed": false,
    "pycharm": {
     "name": "#%%\n"
    }
   }
  },
  {
   "cell_type": "code",
   "execution_count": 151,
   "outputs": [
    {
     "data": {
      "text/plain": "       id_plane          id_x          id_y        i_event  i_time_stamp\ncount   69551.0  69551.000000  69551.000000   69551.000000  6.955100e+04\nmean        2.0    544.008210    292.326667  121609.860548  9.723819e+09\nstd         0.0    165.913372     93.841358   68804.392797  5.504007e+09\nmin         2.0      0.000000      1.000000      47.000000  3.359800e+04\n25%         2.0    500.000000    252.000000   62159.000000  4.967978e+09\n50%         2.0    542.000000    293.000000  124897.000000  9.983943e+09\n75%         2.0    588.000000    339.000000  178794.000000  1.429588e+10\nmax         2.0   1022.000000    511.000000  240231.000000  1.921577e+10",
      "text/html": "<div>\n<style scoped>\n    .dataframe tbody tr th:only-of-type {\n        vertical-align: middle;\n    }\n\n    .dataframe tbody tr th {\n        vertical-align: top;\n    }\n\n    .dataframe thead th {\n        text-align: right;\n    }\n</style>\n<table border=\"1\" class=\"dataframe\">\n  <thead>\n    <tr style=\"text-align: right;\">\n      <th></th>\n      <th>id_plane</th>\n      <th>id_x</th>\n      <th>id_y</th>\n      <th>i_event</th>\n      <th>i_time_stamp</th>\n    </tr>\n  </thead>\n  <tbody>\n    <tr>\n      <th>count</th>\n      <td>69551.0</td>\n      <td>69551.000000</td>\n      <td>69551.000000</td>\n      <td>69551.000000</td>\n      <td>6.955100e+04</td>\n    </tr>\n    <tr>\n      <th>mean</th>\n      <td>2.0</td>\n      <td>544.008210</td>\n      <td>292.326667</td>\n      <td>121609.860548</td>\n      <td>9.723819e+09</td>\n    </tr>\n    <tr>\n      <th>std</th>\n      <td>0.0</td>\n      <td>165.913372</td>\n      <td>93.841358</td>\n      <td>68804.392797</td>\n      <td>5.504007e+09</td>\n    </tr>\n    <tr>\n      <th>min</th>\n      <td>2.0</td>\n      <td>0.000000</td>\n      <td>1.000000</td>\n      <td>47.000000</td>\n      <td>3.359800e+04</td>\n    </tr>\n    <tr>\n      <th>25%</th>\n      <td>2.0</td>\n      <td>500.000000</td>\n      <td>252.000000</td>\n      <td>62159.000000</td>\n      <td>4.967978e+09</td>\n    </tr>\n    <tr>\n      <th>50%</th>\n      <td>2.0</td>\n      <td>542.000000</td>\n      <td>293.000000</td>\n      <td>124897.000000</td>\n      <td>9.983943e+09</td>\n    </tr>\n    <tr>\n      <th>75%</th>\n      <td>2.0</td>\n      <td>588.000000</td>\n      <td>339.000000</td>\n      <td>178794.000000</td>\n      <td>1.429588e+10</td>\n    </tr>\n    <tr>\n      <th>max</th>\n      <td>2.0</td>\n      <td>1022.000000</td>\n      <td>511.000000</td>\n      <td>240231.000000</td>\n      <td>1.921577e+10</td>\n    </tr>\n  </tbody>\n</table>\n</div>"
     },
     "execution_count": 151,
     "metadata": {},
     "output_type": "execute_result"
    }
   ],
   "source": [
    "df2.describe()"
   ],
   "metadata": {
    "collapsed": false,
    "pycharm": {
     "name": "#%%\n"
    }
   }
  },
  {
   "cell_type": "code",
   "execution_count": 152,
   "outputs": [
    {
     "data": {
      "text/plain": "<Figure size 432x288 with 3 Axes>",
      "image/png": "[encoded data removed]"
     },
     "metadata": {
      "needs_background": "light"
     },
     "output_type": "display_data"
    }
   ],
   "source": [
    "fig, ax = plt.subplots(3,1, sharex=True, sharey=True)\n",
    "ax[0].scatter(df0['id_x'],df0['id_y'])\n",
    "ax[1].scatter(df1['id_x'],df1['id_y'])\n",
    "ax[2].scatter(df2['id_x'],df2['id_y'])\n",
    "plt.show()"
   ],
   "metadata": {
    "collapsed": false,
    "pycharm": {
     "name": "#%%\n"
    }
   }
  },
  {
   "cell_type": "code",
   "execution_count": 153,
   "outputs": [
    {
     "data": {
      "text/plain": "        id_plane   id_x   id_y  i_event  i_time_stamp\n45675          1  522.0  401.0    50426    4031963694\n8702           0  453.0  510.0    11516     919996436\n143008         1  564.0  428.0   157067   12559885060\n164738         2  520.0  446.0   178882   14303874262\n13234          1  683.0  311.0    15888    1264049712\n162177         0  511.0  366.0   176733   14135837182\n184944         2  559.0  311.0   203773   16295841132\n116218         1  540.0  264.0   129283   10335926706\n57985          2  467.0  278.0    64606    5160012698\n31227          0   77.0  218.0    34684    2768026800",
      "text/html": "<div>\n<style scoped>\n    .dataframe tbody tr th:only-of-type {\n        vertical-align: middle;\n    }\n\n    .dataframe tbody tr th {\n        vertical-align: top;\n    }\n\n    .dataframe thead th {\n        text-align: right;\n    }\n</style>\n<table border=\"1\" class=\"dataframe\">\n  <thead>\n    <tr style=\"text-align: right;\">\n      <th></th>\n      <th>id_plane</th>\n      <th>id_x</th>\n      <th>id_y</th>\n      <th>i_event</th>\n      <th>i_time_stamp</th>\n    </tr>\n  </thead>\n  <tbody>\n    <tr>\n      <th>45675</th>\n      <td>1</td>\n      <td>522.0</td>\n      <td>401.0</td>\n      <td>50426</td>\n      <td>4031963694</td>\n    </tr>\n    <tr>\n      <th>8702</th>\n      <td>0</td>\n      <td>453.0</td>\n      <td>510.0</td>\n      <td>11516</td>\n      <td>919996436</td>\n    </tr>\n    <tr>\n      <th>143008</th>\n      <td>1</td>\n      <td>564.0</td>\n      <td>428.0</td>\n      <td>157067</td>\n      <td>12559885060</td>\n    </tr>\n    <tr>\n      <th>164738</th>\n      <td>2</td>\n      <td>520.0</td>\n      <td>446.0</td>\n      <td>178882</td>\n      <td>14303874262</td>\n    </tr>\n    <tr>\n      <th>13234</th>\n      <td>1</td>\n      <td>683.0</td>\n      <td>311.0</td>\n      <td>15888</td>\n      <td>1264049712</td>\n    </tr>\n    <tr>\n      <th>162177</th>\n      <td>0</td>\n      <td>511.0</td>\n      <td>366.0</td>\n      <td>176733</td>\n      <td>14135837182</td>\n    </tr>\n    <tr>\n      <th>184944</th>\n      <td>2</td>\n      <td>559.0</td>\n      <td>311.0</td>\n      <td>203773</td>\n      <td>16295841132</td>\n    </tr>\n    <tr>\n      <th>116218</th>\n      <td>1</td>\n      <td>540.0</td>\n      <td>264.0</td>\n      <td>129283</td>\n      <td>10335926706</td>\n    </tr>\n    <tr>\n      <th>57985</th>\n      <td>2</td>\n      <td>467.0</td>\n      <td>278.0</td>\n      <td>64606</td>\n      <td>5160012698</td>\n    </tr>\n    <tr>\n      <th>31227</th>\n      <td>0</td>\n      <td>77.0</td>\n      <td>218.0</td>\n      <td>34684</td>\n      <td>2768026800</td>\n    </tr>\n  </tbody>\n</table>\n</div>"
     },
     "execution_count": 153,
     "metadata": {},
     "output_type": "execute_result"
    }
   ],
   "source": [
    "df.sample(n=10)"
   ],
   "metadata": {
    "collapsed": false,
    "pycharm": {
     "name": "#%%\n"
    }
   }
  },
  {
   "cell_type": "code",
   "execution_count": 154,
   "outputs": [
    {
     "ename": "KeyError",
     "evalue": "\"['id_plane'] not found in axis\"",
     "output_type": "error",
     "traceback": [
      "\u001B[1;31m---------------------------------------------------------------------------\u001B[0m",
      "\u001B[1;31mKeyError\u001B[0m                                  Traceback (most recent call last)",
      "\u001B[1;32m<ipython-input-154-e9c58b61ecf6>\u001B[0m in \u001B[0;36m<module>\u001B[1;34m\u001B[0m\n\u001B[1;32m----> 1\u001B[1;33m \u001B[0mdf\u001B[0m \u001B[1;33m=\u001B[0m \u001B[0mdf\u001B[0m\u001B[1;33m.\u001B[0m\u001B[0mdrop\u001B[0m\u001B[1;33m(\u001B[0m\u001B[1;34m'id_plane'\u001B[0m\u001B[1;33m)\u001B[0m\u001B[1;33m\u001B[0m\u001B[1;33m\u001B[0m\u001B[0m\n\u001B[0m",
      "\u001B[1;32m~\\Anaconda3\\envs\\mlss20\\lib\\site-packages\\pandas\\core\\frame.py\u001B[0m in \u001B[0;36mdrop\u001B[1;34m(self, labels, axis, index, columns, level, inplace, errors)\u001B[0m\n\u001B[0;32m   3995\u001B[0m             \u001B[0mlevel\u001B[0m\u001B[1;33m=\u001B[0m\u001B[0mlevel\u001B[0m\u001B[1;33m,\u001B[0m\u001B[1;33m\u001B[0m\u001B[1;33m\u001B[0m\u001B[0m\n\u001B[0;32m   3996\u001B[0m             \u001B[0minplace\u001B[0m\u001B[1;33m=\u001B[0m\u001B[0minplace\u001B[0m\u001B[1;33m,\u001B[0m\u001B[1;33m\u001B[0m\u001B[1;33m\u001B[0m\u001B[0m\n\u001B[1;32m-> 3997\u001B[1;33m             \u001B[0merrors\u001B[0m\u001B[1;33m=\u001B[0m\u001B[0merrors\u001B[0m\u001B[1;33m,\u001B[0m\u001B[1;33m\u001B[0m\u001B[1;33m\u001B[0m\u001B[0m\n\u001B[0m\u001B[0;32m   3998\u001B[0m         )\n\u001B[0;32m   3999\u001B[0m \u001B[1;33m\u001B[0m\u001B[0m\n",
      "\u001B[1;32m~\\Anaconda3\\envs\\mlss20\\lib\\site-packages\\pandas\\core\\generic.py\u001B[0m in \u001B[0;36mdrop\u001B[1;34m(self, labels, axis, index, columns, level, inplace, errors)\u001B[0m\n\u001B[0;32m   3934\u001B[0m         \u001B[1;32mfor\u001B[0m \u001B[0maxis\u001B[0m\u001B[1;33m,\u001B[0m \u001B[0mlabels\u001B[0m \u001B[1;32min\u001B[0m \u001B[0maxes\u001B[0m\u001B[1;33m.\u001B[0m\u001B[0mitems\u001B[0m\u001B[1;33m(\u001B[0m\u001B[1;33m)\u001B[0m\u001B[1;33m:\u001B[0m\u001B[1;33m\u001B[0m\u001B[1;33m\u001B[0m\u001B[0m\n\u001B[0;32m   3935\u001B[0m             \u001B[1;32mif\u001B[0m \u001B[0mlabels\u001B[0m \u001B[1;32mis\u001B[0m \u001B[1;32mnot\u001B[0m \u001B[1;32mNone\u001B[0m\u001B[1;33m:\u001B[0m\u001B[1;33m\u001B[0m\u001B[1;33m\u001B[0m\u001B[0m\n\u001B[1;32m-> 3936\u001B[1;33m                 \u001B[0mobj\u001B[0m \u001B[1;33m=\u001B[0m \u001B[0mobj\u001B[0m\u001B[1;33m.\u001B[0m\u001B[0m_drop_axis\u001B[0m\u001B[1;33m(\u001B[0m\u001B[0mlabels\u001B[0m\u001B[1;33m,\u001B[0m \u001B[0maxis\u001B[0m\u001B[1;33m,\u001B[0m \u001B[0mlevel\u001B[0m\u001B[1;33m=\u001B[0m\u001B[0mlevel\u001B[0m\u001B[1;33m,\u001B[0m \u001B[0merrors\u001B[0m\u001B[1;33m=\u001B[0m\u001B[0merrors\u001B[0m\u001B[1;33m)\u001B[0m\u001B[1;33m\u001B[0m\u001B[1;33m\u001B[0m\u001B[0m\n\u001B[0m\u001B[0;32m   3937\u001B[0m \u001B[1;33m\u001B[0m\u001B[0m\n\u001B[0;32m   3938\u001B[0m         \u001B[1;32mif\u001B[0m \u001B[0minplace\u001B[0m\u001B[1;33m:\u001B[0m\u001B[1;33m\u001B[0m\u001B[1;33m\u001B[0m\u001B[0m\n",
      "\u001B[1;32m~\\Anaconda3\\envs\\mlss20\\lib\\site-packages\\pandas\\core\\generic.py\u001B[0m in \u001B[0;36m_drop_axis\u001B[1;34m(self, labels, axis, level, errors)\u001B[0m\n\u001B[0;32m   3968\u001B[0m                 \u001B[0mnew_axis\u001B[0m \u001B[1;33m=\u001B[0m \u001B[0maxis\u001B[0m\u001B[1;33m.\u001B[0m\u001B[0mdrop\u001B[0m\u001B[1;33m(\u001B[0m\u001B[0mlabels\u001B[0m\u001B[1;33m,\u001B[0m \u001B[0mlevel\u001B[0m\u001B[1;33m=\u001B[0m\u001B[0mlevel\u001B[0m\u001B[1;33m,\u001B[0m \u001B[0merrors\u001B[0m\u001B[1;33m=\u001B[0m\u001B[0merrors\u001B[0m\u001B[1;33m)\u001B[0m\u001B[1;33m\u001B[0m\u001B[1;33m\u001B[0m\u001B[0m\n\u001B[0;32m   3969\u001B[0m             \u001B[1;32melse\u001B[0m\u001B[1;33m:\u001B[0m\u001B[1;33m\u001B[0m\u001B[1;33m\u001B[0m\u001B[0m\n\u001B[1;32m-> 3970\u001B[1;33m                 \u001B[0mnew_axis\u001B[0m \u001B[1;33m=\u001B[0m \u001B[0maxis\u001B[0m\u001B[1;33m.\u001B[0m\u001B[0mdrop\u001B[0m\u001B[1;33m(\u001B[0m\u001B[0mlabels\u001B[0m\u001B[1;33m,\u001B[0m \u001B[0merrors\u001B[0m\u001B[1;33m=\u001B[0m\u001B[0merrors\u001B[0m\u001B[1;33m)\u001B[0m\u001B[1;33m\u001B[0m\u001B[1;33m\u001B[0m\u001B[0m\n\u001B[0m\u001B[0;32m   3971\u001B[0m             \u001B[0mresult\u001B[0m \u001B[1;33m=\u001B[0m \u001B[0mself\u001B[0m\u001B[1;33m.\u001B[0m\u001B[0mreindex\u001B[0m\u001B[1;33m(\u001B[0m\u001B[1;33m**\u001B[0m\u001B[1;33m{\u001B[0m\u001B[0maxis_name\u001B[0m\u001B[1;33m:\u001B[0m \u001B[0mnew_axis\u001B[0m\u001B[1;33m}\u001B[0m\u001B[1;33m)\u001B[0m\u001B[1;33m\u001B[0m\u001B[1;33m\u001B[0m\u001B[0m\n\u001B[0;32m   3972\u001B[0m \u001B[1;33m\u001B[0m\u001B[0m\n",
      "\u001B[1;32m~\\Anaconda3\\envs\\mlss20\\lib\\site-packages\\pandas\\core\\indexes\\base.py\u001B[0m in \u001B[0;36mdrop\u001B[1;34m(self, labels, errors)\u001B[0m\n\u001B[0;32m   5015\u001B[0m         \u001B[1;32mif\u001B[0m \u001B[0mmask\u001B[0m\u001B[1;33m.\u001B[0m\u001B[0many\u001B[0m\u001B[1;33m(\u001B[0m\u001B[1;33m)\u001B[0m\u001B[1;33m:\u001B[0m\u001B[1;33m\u001B[0m\u001B[1;33m\u001B[0m\u001B[0m\n\u001B[0;32m   5016\u001B[0m             \u001B[1;32mif\u001B[0m \u001B[0merrors\u001B[0m \u001B[1;33m!=\u001B[0m \u001B[1;34m\"ignore\"\u001B[0m\u001B[1;33m:\u001B[0m\u001B[1;33m\u001B[0m\u001B[1;33m\u001B[0m\u001B[0m\n\u001B[1;32m-> 5017\u001B[1;33m                 \u001B[1;32mraise\u001B[0m \u001B[0mKeyError\u001B[0m\u001B[1;33m(\u001B[0m\u001B[1;34mf\"{labels[mask]} not found in axis\"\u001B[0m\u001B[1;33m)\u001B[0m\u001B[1;33m\u001B[0m\u001B[1;33m\u001B[0m\u001B[0m\n\u001B[0m\u001B[0;32m   5018\u001B[0m             \u001B[0mindexer\u001B[0m \u001B[1;33m=\u001B[0m \u001B[0mindexer\u001B[0m\u001B[1;33m[\u001B[0m\u001B[1;33m~\u001B[0m\u001B[0mmask\u001B[0m\u001B[1;33m]\u001B[0m\u001B[1;33m\u001B[0m\u001B[1;33m\u001B[0m\u001B[0m\n\u001B[0;32m   5019\u001B[0m         \u001B[1;32mreturn\u001B[0m \u001B[0mself\u001B[0m\u001B[1;33m.\u001B[0m\u001B[0mdelete\u001B[0m\u001B[1;33m(\u001B[0m\u001B[0mindexer\u001B[0m\u001B[1;33m)\u001B[0m\u001B[1;33m\u001B[0m\u001B[1;33m\u001B[0m\u001B[0m\n",
      "\u001B[1;31mKeyError\u001B[0m: \"['id_plane'] not found in axis\""
     ]
    }
   ],
   "source": [],
   "metadata": {
    "collapsed": false,
    "pycharm": {
     "name": "#%%\n"
    }
   }
  }
 ],
 "metadata": {
  "kernelspec": {
   "display_name": "Python 3",
   "language": "python",
   "name": "python3"
  },
  "language_info": {
   "codemirror_mode": {
    "name": "ipython",
    "version": 2
   },
   "file_extension": ".py",
   "mimetype": "text/x-python",
   "name": "python",
   "nbconvert_exporter": "python",
   "pygments_lexer": "ipython2",
   "version": "2.7.6"
  }
 },
 "nbformat": 4,
 "nbformat_minor": 0
}