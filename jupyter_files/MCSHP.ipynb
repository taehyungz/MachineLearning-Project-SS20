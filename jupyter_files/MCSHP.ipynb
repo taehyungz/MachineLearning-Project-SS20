{
 "cells": [
  {
   "cell_type": "code",
   "execution_count": 1,
   "metadata": {
    "collapsed": true
   },
   "outputs": [],
   "source": [
    "import pandas as pd\n",
    "import numpy as np\n",
    "from matplotlib import pyplot as plt"
   ]
  },
  {
   "cell_type": "code",
   "execution_count": 2,
   "outputs": [
    {
     "data": {
      "text/plain": "   PDGEncoding  trackID  parentID  trackLocalTime          time      edep  \\\n0       2212.0        1         0    4.349570e-09  4.349570e-09  0.018531   \n1       2212.0        1         0    4.682350e-09  4.682350e-09  0.016267   \n2       2212.0        1         0    4.351730e-09  4.351730e-09  0.018427   \n3       2212.0        1         0    4.684550e-09  4.684550e-09  0.015777   \n4       2212.0        1         0    4.349040e-09  4.349040e-09  0.018475   \n\n   stepLength  trackLength       posX      posY  ...  sourcePosZ  sourceID  \\\n0    0.025047      726.002  21.573500  10.04040  ...        -500         0   \n1    0.025052      778.503  24.237600  11.91880  ...        -500         0   \n2    0.025004      725.314   0.323421  -7.84734  ...        -500         0   \n3    0.025003      777.722   0.581667  -8.71873  ...        -500         0   \n4    0.025005      725.354 -10.450700  -8.17113  ...        -500         0   \n\n   eventID  runID  axialPos  rotationAngle                     volumeID  \\\n0        0      0     277.4              0  [0;1;0;3;-1;-1;-1;-1;-1;-1]   \n1        0      0     277.4              0  [0;1;1;3;-1;-1;-1;-1;-1;-1]   \n2        1      0     277.4              0  [0;1;0;3;-1;-1;-1;-1;-1;-1]   \n3        1      0     277.4              0  [0;1;1;3;-1;-1;-1;-1;-1;-1]   \n4        2      0     277.4              0  [0;1;0;3;-1;-1;-1;-1;-1;-1]   \n\n      processName  comptVolName  RayleighVolName  \n0  Transportation           NaN              NaN  \n1  Transportation           NaN              NaN  \n2  Transportation           NaN              NaN  \n3  Transportation           NaN              NaN  \n4  Transportation           NaN              NaN  \n\n[5 rows x 41 columns]",
      "text/html": "<div>\n<style scoped>\n    .dataframe tbody tr th:only-of-type {\n        vertical-align: middle;\n    }\n\n    .dataframe tbody tr th {\n        vertical-align: top;\n    }\n\n    .dataframe thead th {\n        text-align: right;\n    }\n</style>\n<table border=\"1\" class=\"dataframe\">\n  <thead>\n    <tr style=\"text-align: right;\">\n      <th></th>\n      <th>PDGEncoding</th>\n      <th>trackID</th>\n      <th>parentID</th>\n      <th>trackLocalTime</th>\n      <th>time</th>\n      <th>edep</th>\n      <th>stepLength</th>\n      <th>trackLength</th>\n      <th>posX</th>\n      <th>posY</th>\n      <th>...</th>\n      <th>sourcePosZ</th>\n      <th>sourceID</th>\n      <th>eventID</th>\n      <th>runID</th>\n      <th>axialPos</th>\n      <th>rotationAngle</th>\n      <th>volumeID</th>\n      <th>processName</th>\n      <th>comptVolName</th>\n      <th>RayleighVolName</th>\n    </tr>\n  </thead>\n  <tbody>\n    <tr>\n      <th>0</th>\n      <td>2212.0</td>\n      <td>1</td>\n      <td>0</td>\n      <td>4.349570e-09</td>\n      <td>4.349570e-09</td>\n      <td>0.018531</td>\n      <td>0.025047</td>\n      <td>726.002</td>\n      <td>21.573500</td>\n      <td>10.04040</td>\n      <td>...</td>\n      <td>-500</td>\n      <td>0</td>\n      <td>0</td>\n      <td>0</td>\n      <td>277.4</td>\n      <td>0</td>\n      <td>[0;1;0;3;-1;-1;-1;-1;-1;-1]</td>\n      <td>Transportation</td>\n      <td>NaN</td>\n      <td>NaN</td>\n    </tr>\n    <tr>\n      <th>1</th>\n      <td>2212.0</td>\n      <td>1</td>\n      <td>0</td>\n      <td>4.682350e-09</td>\n      <td>4.682350e-09</td>\n      <td>0.016267</td>\n      <td>0.025052</td>\n      <td>778.503</td>\n      <td>24.237600</td>\n      <td>11.91880</td>\n      <td>...</td>\n      <td>-500</td>\n      <td>0</td>\n      <td>0</td>\n      <td>0</td>\n      <td>277.4</td>\n      <td>0</td>\n      <td>[0;1;1;3;-1;-1;-1;-1;-1;-1]</td>\n      <td>Transportation</td>\n      <td>NaN</td>\n      <td>NaN</td>\n    </tr>\n    <tr>\n      <th>2</th>\n      <td>2212.0</td>\n      <td>1</td>\n      <td>0</td>\n      <td>4.351730e-09</td>\n      <td>4.351730e-09</td>\n      <td>0.018427</td>\n      <td>0.025004</td>\n      <td>725.314</td>\n      <td>0.323421</td>\n      <td>-7.84734</td>\n      <td>...</td>\n      <td>-500</td>\n      <td>0</td>\n      <td>1</td>\n      <td>0</td>\n      <td>277.4</td>\n      <td>0</td>\n      <td>[0;1;0;3;-1;-1;-1;-1;-1;-1]</td>\n      <td>Transportation</td>\n      <td>NaN</td>\n      <td>NaN</td>\n    </tr>\n    <tr>\n      <th>3</th>\n      <td>2212.0</td>\n      <td>1</td>\n      <td>0</td>\n      <td>4.684550e-09</td>\n      <td>4.684550e-09</td>\n      <td>0.015777</td>\n      <td>0.025003</td>\n      <td>777.722</td>\n      <td>0.581667</td>\n      <td>-8.71873</td>\n      <td>...</td>\n      <td>-500</td>\n      <td>0</td>\n      <td>1</td>\n      <td>0</td>\n      <td>277.4</td>\n      <td>0</td>\n      <td>[0;1;1;3;-1;-1;-1;-1;-1;-1]</td>\n      <td>Transportation</td>\n      <td>NaN</td>\n      <td>NaN</td>\n    </tr>\n    <tr>\n      <th>4</th>\n      <td>2212.0</td>\n      <td>1</td>\n      <td>0</td>\n      <td>4.349040e-09</td>\n      <td>4.349040e-09</td>\n      <td>0.018475</td>\n      <td>0.025005</td>\n      <td>725.354</td>\n      <td>-10.450700</td>\n      <td>-8.17113</td>\n      <td>...</td>\n      <td>-500</td>\n      <td>0</td>\n      <td>2</td>\n      <td>0</td>\n      <td>277.4</td>\n      <td>0</td>\n      <td>[0;1;0;3;-1;-1;-1;-1;-1;-1]</td>\n      <td>Transportation</td>\n      <td>NaN</td>\n      <td>NaN</td>\n    </tr>\n  </tbody>\n</table>\n<p>5 rows × 41 columns</p>\n</div>"
     },
     "execution_count": 2,
     "metadata": {},
     "output_type": "execute_result"
    }
   ],
   "source": [
    "df = pd.read_csv(\"../Data_Sets_for_Final_Projects/Monte-Carlo-Simulation-Head-Phantom/2020-03-20_11-45_Proton_230MeV_Head-Phantom_epi_4702263107.csv\")\n",
    "df.head()\n"
   ],
   "metadata": {
    "collapsed": false,
    "pycharm": {
     "name": "#%%\n"
    }
   }
  }
 ],
 "metadata": {
  "kernelspec": {
   "display_name": "Python 3",
   "language": "python",
   "name": "python3"
  },
  "language_info": {
   "codemirror_mode": {
    "name": "ipython",
    "version": 2
   },
   "file_extension": ".py",
   "mimetype": "text/x-python",
   "name": "python",
   "nbconvert_exporter": "python",
   "pygments_lexer": "ipython2",
   "version": "2.7.6"
  }
 },
 "nbformat": 4,
 "nbformat_minor": 0
}