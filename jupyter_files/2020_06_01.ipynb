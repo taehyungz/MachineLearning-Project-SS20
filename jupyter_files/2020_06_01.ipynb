{
 "cells": [
  {
   "cell_type": "code",
   "execution_count": 115,
   "metadata": {
    "collapsed": true
   },
   "outputs": [],
   "source": [
    "import pandas as pd\n",
    "import numpy as np\n",
    "import matplotlib.pyplot as plt"
   ]
  },
  {
   "cell_type": "code",
   "execution_count": 116,
   "outputs": [],
   "source": [
    "path = \"../Data_Sets_for_Final_Projects/Carbon-Data-ALPIDE-CHIP-Longitudinal/151218_04237.csv\"\n",
    "#df = pd.read_csv(path)\n",
    "df = pd.read_csv(path,\n",
    "                 converters={\"column\": lambda vol: vol.strip(\"[]\").split(\";\"),\n",
    "                             \"row\": lambda vol: vol.strip(\"[]\").split(\";\") })"
   ],
   "metadata": {
    "collapsed": false,
    "pycharm": {
     "name": "#%%\n"
    }
   }
  },
  {
   "cell_type": "markdown",
   "source": [
    "* 판다스에서 데이터를 읽을 때 세미콜론으로 나눠져 있는 데이터를 리스트형으로 분할하는 방법\n",
    "    * pd.read_csv()에서 converters옵션 사용하기"
   ],
   "metadata": {
    "collapsed": false,
    "pycharm": {
     "name": "#%% md\n"
    }
   }
  },
  {
   "cell_type": "code",
   "execution_count": 117,
   "outputs": [
    {
     "data": {
      "text/plain": "    ru_id  frame_id  stave_id  chip_id      abs_time  bunch_counter  \\\n0       1       1.0         0        5  3.949260e+09             54   \n1       1       2.0         0        5  3.949380e+09            154   \n2       1       3.0         0        5  3.949500e+09             64   \n3       1       6.0         0        5  3.949860e+09            106   \n4       1      14.0         0        5  3.950820e+09             11   \n5       1      39.0         0        5  3.953820e+09             82   \n6       1      75.0         0        5  3.958140e+09            100   \n7       1      92.0         0        5  3.960180e+09              9   \n8       1     121.0         0        5  3.963660e+09            222   \n9       1     143.0         0        5  3.966300e+09            183   \n10      1     166.0         0        5  3.969060e+09            244   \n11      1     200.0         0        5  3.973140e+09             63   \n12      1     212.0         0        5  3.974580e+09            110   \n13      1     238.0         0        5  3.977700e+09             24   \n14      1     251.0         0        5  3.979260e+09            237   \n15      1     255.0         0        5  3.979740e+09            190   \n16      1     260.0         0        5  3.980340e+09            242   \n17      1     266.0         0        5  3.981060e+09            137   \n18      1     282.0         0        5  3.982980e+09            203   \n19      1     293.0         0        5  3.984300e+09            151   \n\n                                               column  \\\n0   [1, 1, 0, 0, 1, 1, 2, 3, 4, 4, 5, 5, 7, 7, 7, ...   \n1   [1, 1, 0, 0, 1, 1, 2, 3, 4, 4, 5, 5, 7, 7, 7, ...   \n2   [1, 1, 0, 0, 1, 1, 2, 3, 4, 4, 5, 5, 7, 7, 7, ...   \n3                                               [829]   \n4                                [957, 957, 958, 958]   \n5                                [797, 796, 796, 797]   \n6                                               [829]   \n7                           [268, 268, 269, 269, 268]   \n8                                               [866]   \n9       [445, 444, 444, 445, 446, 446, 447, 447, 446]   \n10                                              [866]   \n11                                         [268, 269]   \n12                                              [829]   \n13                                    [558, 559, 558]   \n14                               [637, 637, 638, 638]   \n15                                              [829]   \n16                                              [866]   \n17                                              [829]   \n18                                              [829]   \n19           [507, 507, 509, 508, 509, 508, 510, 510]   \n\n                                                  row  \n0   [48, 239, 263, 297, 305, 370, 332, 433, 250, 3...  \n1   [48, 239, 263, 297, 305, 370, 332, 433, 250, 3...  \n2   [48, 239, 263, 297, 305, 370, 332, 433, 250, 3...  \n3                                               [478]  \n4                                [421, 422, 421, 422]  \n5                                [353, 353, 354, 354]  \n6                                               [478]  \n7                           [129, 130, 130, 131, 131]  \n8                                               [346]  \n9       [343, 343, 344, 344, 343, 344, 344, 345, 345]  \n10                                              [346]  \n11                                         [342, 342]  \n12                                              [478]  \n13                                    [142, 142, 143]  \n14                               [310, 311, 310, 311]  \n15                                              [478]  \n16                                              [346]  \n17                                              [478]  \n18                                              [478]  \n19           [446, 447, 445, 446, 446, 447, 445, 446]  ",
      "text/html": "<div>\n<style scoped>\n    .dataframe tbody tr th:only-of-type {\n        vertical-align: middle;\n    }\n\n    .dataframe tbody tr th {\n        vertical-align: top;\n    }\n\n    .dataframe thead th {\n        text-align: right;\n    }\n</style>\n<table border=\"1\" class=\"dataframe\">\n  <thead>\n    <tr style=\"text-align: right;\">\n      <th></th>\n      <th>ru_id</th>\n      <th>frame_id</th>\n      <th>stave_id</th>\n      <th>chip_id</th>\n      <th>abs_time</th>\n      <th>bunch_counter</th>\n      <th>column</th>\n      <th>row</th>\n    </tr>\n  </thead>\n  <tbody>\n    <tr>\n      <th>0</th>\n      <td>1</td>\n      <td>1.0</td>\n      <td>0</td>\n      <td>5</td>\n      <td>3.949260e+09</td>\n      <td>54</td>\n      <td>[1, 1, 0, 0, 1, 1, 2, 3, 4, 4, 5, 5, 7, 7, 7, ...</td>\n      <td>[48, 239, 263, 297, 305, 370, 332, 433, 250, 3...</td>\n    </tr>\n    <tr>\n      <th>1</th>\n      <td>1</td>\n      <td>2.0</td>\n      <td>0</td>\n      <td>5</td>\n      <td>3.949380e+09</td>\n      <td>154</td>\n      <td>[1, 1, 0, 0, 1, 1, 2, 3, 4, 4, 5, 5, 7, 7, 7, ...</td>\n      <td>[48, 239, 263, 297, 305, 370, 332, 433, 250, 3...</td>\n    </tr>\n    <tr>\n      <th>2</th>\n      <td>1</td>\n      <td>3.0</td>\n      <td>0</td>\n      <td>5</td>\n      <td>3.949500e+09</td>\n      <td>64</td>\n      <td>[1, 1, 0, 0, 1, 1, 2, 3, 4, 4, 5, 5, 7, 7, 7, ...</td>\n      <td>[48, 239, 263, 297, 305, 370, 332, 433, 250, 3...</td>\n    </tr>\n    <tr>\n      <th>3</th>\n      <td>1</td>\n      <td>6.0</td>\n      <td>0</td>\n      <td>5</td>\n      <td>3.949860e+09</td>\n      <td>106</td>\n      <td>[829]</td>\n      <td>[478]</td>\n    </tr>\n    <tr>\n      <th>4</th>\n      <td>1</td>\n      <td>14.0</td>\n      <td>0</td>\n      <td>5</td>\n      <td>3.950820e+09</td>\n      <td>11</td>\n      <td>[957, 957, 958, 958]</td>\n      <td>[421, 422, 421, 422]</td>\n    </tr>\n    <tr>\n      <th>5</th>\n      <td>1</td>\n      <td>39.0</td>\n      <td>0</td>\n      <td>5</td>\n      <td>3.953820e+09</td>\n      <td>82</td>\n      <td>[797, 796, 796, 797]</td>\n      <td>[353, 353, 354, 354]</td>\n    </tr>\n    <tr>\n      <th>6</th>\n      <td>1</td>\n      <td>75.0</td>\n      <td>0</td>\n      <td>5</td>\n      <td>3.958140e+09</td>\n      <td>100</td>\n      <td>[829]</td>\n      <td>[478]</td>\n    </tr>\n    <tr>\n      <th>7</th>\n      <td>1</td>\n      <td>92.0</td>\n      <td>0</td>\n      <td>5</td>\n      <td>3.960180e+09</td>\n      <td>9</td>\n      <td>[268, 268, 269, 269, 268]</td>\n      <td>[129, 130, 130, 131, 131]</td>\n    </tr>\n    <tr>\n      <th>8</th>\n      <td>1</td>\n      <td>121.0</td>\n      <td>0</td>\n      <td>5</td>\n      <td>3.963660e+09</td>\n      <td>222</td>\n      <td>[866]</td>\n      <td>[346]</td>\n    </tr>\n    <tr>\n      <th>9</th>\n      <td>1</td>\n      <td>143.0</td>\n      <td>0</td>\n      <td>5</td>\n      <td>3.966300e+09</td>\n      <td>183</td>\n      <td>[445, 444, 444, 445, 446, 446, 447, 447, 446]</td>\n      <td>[343, 343, 344, 344, 343, 344, 344, 345, 345]</td>\n    </tr>\n    <tr>\n      <th>10</th>\n      <td>1</td>\n      <td>166.0</td>\n      <td>0</td>\n      <td>5</td>\n      <td>3.969060e+09</td>\n      <td>244</td>\n      <td>[866]</td>\n      <td>[346]</td>\n    </tr>\n    <tr>\n      <th>11</th>\n      <td>1</td>\n      <td>200.0</td>\n      <td>0</td>\n      <td>5</td>\n      <td>3.973140e+09</td>\n      <td>63</td>\n      <td>[268, 269]</td>\n      <td>[342, 342]</td>\n    </tr>\n    <tr>\n      <th>12</th>\n      <td>1</td>\n      <td>212.0</td>\n      <td>0</td>\n      <td>5</td>\n      <td>3.974580e+09</td>\n      <td>110</td>\n      <td>[829]</td>\n      <td>[478]</td>\n    </tr>\n    <tr>\n      <th>13</th>\n      <td>1</td>\n      <td>238.0</td>\n      <td>0</td>\n      <td>5</td>\n      <td>3.977700e+09</td>\n      <td>24</td>\n      <td>[558, 559, 558]</td>\n      <td>[142, 142, 143]</td>\n    </tr>\n    <tr>\n      <th>14</th>\n      <td>1</td>\n      <td>251.0</td>\n      <td>0</td>\n      <td>5</td>\n      <td>3.979260e+09</td>\n      <td>237</td>\n      <td>[637, 637, 638, 638]</td>\n      <td>[310, 311, 310, 311]</td>\n    </tr>\n    <tr>\n      <th>15</th>\n      <td>1</td>\n      <td>255.0</td>\n      <td>0</td>\n      <td>5</td>\n      <td>3.979740e+09</td>\n      <td>190</td>\n      <td>[829]</td>\n      <td>[478]</td>\n    </tr>\n    <tr>\n      <th>16</th>\n      <td>1</td>\n      <td>260.0</td>\n      <td>0</td>\n      <td>5</td>\n      <td>3.980340e+09</td>\n      <td>242</td>\n      <td>[866]</td>\n      <td>[346]</td>\n    </tr>\n    <tr>\n      <th>17</th>\n      <td>1</td>\n      <td>266.0</td>\n      <td>0</td>\n      <td>5</td>\n      <td>3.981060e+09</td>\n      <td>137</td>\n      <td>[829]</td>\n      <td>[478]</td>\n    </tr>\n    <tr>\n      <th>18</th>\n      <td>1</td>\n      <td>282.0</td>\n      <td>0</td>\n      <td>5</td>\n      <td>3.982980e+09</td>\n      <td>203</td>\n      <td>[829]</td>\n      <td>[478]</td>\n    </tr>\n    <tr>\n      <th>19</th>\n      <td>1</td>\n      <td>293.0</td>\n      <td>0</td>\n      <td>5</td>\n      <td>3.984300e+09</td>\n      <td>151</td>\n      <td>[507, 507, 509, 508, 509, 508, 510, 510]</td>\n      <td>[446, 447, 445, 446, 446, 447, 445, 446]</td>\n    </tr>\n  </tbody>\n</table>\n</div>"
     },
     "execution_count": 117,
     "metadata": {},
     "output_type": "execute_result"
    }
   ],
   "source": [
    "df.head(n=20)"
   ],
   "metadata": {
    "collapsed": false,
    "pycharm": {
     "name": "#%%\n"
    }
   }
  },
  {
   "cell_type": "markdown",
   "source": [
    "가설을 만든 후 검증한다.\n",
    "\n",
    "* 'ru_id'는 항상 `1`\n",
    "* 'stave_id'는 항상 `0`\n",
    "* 'chip_id'는 항상 `5`"
   ],
   "metadata": {
    "collapsed": false
   }
  },
  {
   "cell_type": "code",
   "execution_count": 118,
   "outputs": [],
   "source": [
    "df['ru_id'].unique()\n",
    "assert df['ru_id'].unique() == 1\n",
    "assert df['stave_id'].unique() == 0\n",
    "assert df['chip_id'].unique() == 5"
   ],
   "metadata": {
    "collapsed": false,
    "pycharm": {
     "name": "#%%\n"
    }
   }
  },
  {
   "cell_type": "markdown",
   "source": [
    "* assert문에서 에러가 발생하지 않았으므로 모두 참이다.\n",
    "* 'ru_id', 'stave_id', 'chip_id'는 항상 같은 값을 가지므로 유용한 정보가 없다. 따라서 drop한다."
   ],
   "metadata": {
    "collapsed": false,
    "pycharm": {
     "name": "#%% md\n"
    }
   }
  },
  {
   "cell_type": "code",
   "execution_count": 119,
   "outputs": [
    {
     "data": {
      "text/plain": "    frame_id      abs_time  bunch_counter  \\\n0        1.0  3.949260e+09             54   \n1        2.0  3.949380e+09            154   \n2        3.0  3.949500e+09             64   \n3        6.0  3.949860e+09            106   \n4       14.0  3.950820e+09             11   \n5       39.0  3.953820e+09             82   \n6       75.0  3.958140e+09            100   \n7       92.0  3.960180e+09              9   \n8      121.0  3.963660e+09            222   \n9      143.0  3.966300e+09            183   \n10     166.0  3.969060e+09            244   \n11     200.0  3.973140e+09             63   \n12     212.0  3.974580e+09            110   \n13     238.0  3.977700e+09             24   \n14     251.0  3.979260e+09            237   \n15     255.0  3.979740e+09            190   \n16     260.0  3.980340e+09            242   \n17     266.0  3.981060e+09            137   \n18     282.0  3.982980e+09            203   \n19     293.0  3.984300e+09            151   \n\n                                               column  \\\n0   [1, 1, 0, 0, 1, 1, 2, 3, 4, 4, 5, 5, 7, 7, 7, ...   \n1   [1, 1, 0, 0, 1, 1, 2, 3, 4, 4, 5, 5, 7, 7, 7, ...   \n2   [1, 1, 0, 0, 1, 1, 2, 3, 4, 4, 5, 5, 7, 7, 7, ...   \n3                                               [829]   \n4                                [957, 957, 958, 958]   \n5                                [797, 796, 796, 797]   \n6                                               [829]   \n7                           [268, 268, 269, 269, 268]   \n8                                               [866]   \n9       [445, 444, 444, 445, 446, 446, 447, 447, 446]   \n10                                              [866]   \n11                                         [268, 269]   \n12                                              [829]   \n13                                    [558, 559, 558]   \n14                               [637, 637, 638, 638]   \n15                                              [829]   \n16                                              [866]   \n17                                              [829]   \n18                                              [829]   \n19           [507, 507, 509, 508, 509, 508, 510, 510]   \n\n                                                  row  \n0   [48, 239, 263, 297, 305, 370, 332, 433, 250, 3...  \n1   [48, 239, 263, 297, 305, 370, 332, 433, 250, 3...  \n2   [48, 239, 263, 297, 305, 370, 332, 433, 250, 3...  \n3                                               [478]  \n4                                [421, 422, 421, 422]  \n5                                [353, 353, 354, 354]  \n6                                               [478]  \n7                           [129, 130, 130, 131, 131]  \n8                                               [346]  \n9       [343, 343, 344, 344, 343, 344, 344, 345, 345]  \n10                                              [346]  \n11                                         [342, 342]  \n12                                              [478]  \n13                                    [142, 142, 143]  \n14                               [310, 311, 310, 311]  \n15                                              [478]  \n16                                              [346]  \n17                                              [478]  \n18                                              [478]  \n19           [446, 447, 445, 446, 446, 447, 445, 446]  ",
      "text/html": "<div>\n<style scoped>\n    .dataframe tbody tr th:only-of-type {\n        vertical-align: middle;\n    }\n\n    .dataframe tbody tr th {\n        vertical-align: top;\n    }\n\n    .dataframe thead th {\n        text-align: right;\n    }\n</style>\n<table border=\"1\" class=\"dataframe\">\n  <thead>\n    <tr style=\"text-align: right;\">\n      <th></th>\n      <th>frame_id</th>\n      <th>abs_time</th>\n      <th>bunch_counter</th>\n      <th>column</th>\n      <th>row</th>\n    </tr>\n  </thead>\n  <tbody>\n    <tr>\n      <th>0</th>\n      <td>1.0</td>\n      <td>3.949260e+09</td>\n      <td>54</td>\n      <td>[1, 1, 0, 0, 1, 1, 2, 3, 4, 4, 5, 5, 7, 7, 7, ...</td>\n      <td>[48, 239, 263, 297, 305, 370, 332, 433, 250, 3...</td>\n    </tr>\n    <tr>\n      <th>1</th>\n      <td>2.0</td>\n      <td>3.949380e+09</td>\n      <td>154</td>\n      <td>[1, 1, 0, 0, 1, 1, 2, 3, 4, 4, 5, 5, 7, 7, 7, ...</td>\n      <td>[48, 239, 263, 297, 305, 370, 332, 433, 250, 3...</td>\n    </tr>\n    <tr>\n      <th>2</th>\n      <td>3.0</td>\n      <td>3.949500e+09</td>\n      <td>64</td>\n      <td>[1, 1, 0, 0, 1, 1, 2, 3, 4, 4, 5, 5, 7, 7, 7, ...</td>\n      <td>[48, 239, 263, 297, 305, 370, 332, 433, 250, 3...</td>\n    </tr>\n    <tr>\n      <th>3</th>\n      <td>6.0</td>\n      <td>3.949860e+09</td>\n      <td>106</td>\n      <td>[829]</td>\n      <td>[478]</td>\n    </tr>\n    <tr>\n      <th>4</th>\n      <td>14.0</td>\n      <td>3.950820e+09</td>\n      <td>11</td>\n      <td>[957, 957, 958, 958]</td>\n      <td>[421, 422, 421, 422]</td>\n    </tr>\n    <tr>\n      <th>5</th>\n      <td>39.0</td>\n      <td>3.953820e+09</td>\n      <td>82</td>\n      <td>[797, 796, 796, 797]</td>\n      <td>[353, 353, 354, 354]</td>\n    </tr>\n    <tr>\n      <th>6</th>\n      <td>75.0</td>\n      <td>3.958140e+09</td>\n      <td>100</td>\n      <td>[829]</td>\n      <td>[478]</td>\n    </tr>\n    <tr>\n      <th>7</th>\n      <td>92.0</td>\n      <td>3.960180e+09</td>\n      <td>9</td>\n      <td>[268, 268, 269, 269, 268]</td>\n      <td>[129, 130, 130, 131, 131]</td>\n    </tr>\n    <tr>\n      <th>8</th>\n      <td>121.0</td>\n      <td>3.963660e+09</td>\n      <td>222</td>\n      <td>[866]</td>\n      <td>[346]</td>\n    </tr>\n    <tr>\n      <th>9</th>\n      <td>143.0</td>\n      <td>3.966300e+09</td>\n      <td>183</td>\n      <td>[445, 444, 444, 445, 446, 446, 447, 447, 446]</td>\n      <td>[343, 343, 344, 344, 343, 344, 344, 345, 345]</td>\n    </tr>\n    <tr>\n      <th>10</th>\n      <td>166.0</td>\n      <td>3.969060e+09</td>\n      <td>244</td>\n      <td>[866]</td>\n      <td>[346]</td>\n    </tr>\n    <tr>\n      <th>11</th>\n      <td>200.0</td>\n      <td>3.973140e+09</td>\n      <td>63</td>\n      <td>[268, 269]</td>\n      <td>[342, 342]</td>\n    </tr>\n    <tr>\n      <th>12</th>\n      <td>212.0</td>\n      <td>3.974580e+09</td>\n      <td>110</td>\n      <td>[829]</td>\n      <td>[478]</td>\n    </tr>\n    <tr>\n      <th>13</th>\n      <td>238.0</td>\n      <td>3.977700e+09</td>\n      <td>24</td>\n      <td>[558, 559, 558]</td>\n      <td>[142, 142, 143]</td>\n    </tr>\n    <tr>\n      <th>14</th>\n      <td>251.0</td>\n      <td>3.979260e+09</td>\n      <td>237</td>\n      <td>[637, 637, 638, 638]</td>\n      <td>[310, 311, 310, 311]</td>\n    </tr>\n    <tr>\n      <th>15</th>\n      <td>255.0</td>\n      <td>3.979740e+09</td>\n      <td>190</td>\n      <td>[829]</td>\n      <td>[478]</td>\n    </tr>\n    <tr>\n      <th>16</th>\n      <td>260.0</td>\n      <td>3.980340e+09</td>\n      <td>242</td>\n      <td>[866]</td>\n      <td>[346]</td>\n    </tr>\n    <tr>\n      <th>17</th>\n      <td>266.0</td>\n      <td>3.981060e+09</td>\n      <td>137</td>\n      <td>[829]</td>\n      <td>[478]</td>\n    </tr>\n    <tr>\n      <th>18</th>\n      <td>282.0</td>\n      <td>3.982980e+09</td>\n      <td>203</td>\n      <td>[829]</td>\n      <td>[478]</td>\n    </tr>\n    <tr>\n      <th>19</th>\n      <td>293.0</td>\n      <td>3.984300e+09</td>\n      <td>151</td>\n      <td>[507, 507, 509, 508, 509, 508, 510, 510]</td>\n      <td>[446, 447, 445, 446, 446, 447, 445, 446]</td>\n    </tr>\n  </tbody>\n</table>\n</div>"
     },
     "execution_count": 119,
     "metadata": {},
     "output_type": "execute_result"
    }
   ],
   "source": [
    "df.drop(['ru_id', 'stave_id', 'chip_id'], axis=\"columns\", inplace=True)\n",
    "df.head(n=20)"
   ],
   "metadata": {
    "collapsed": false,
    "pycharm": {
     "name": "#%%\n"
    }
   }
  },
  {
   "cell_type": "code",
   "execution_count": 120,
   "outputs": [
    {
     "name": "stdout",
     "output_type": "stream",
     "text": [
      "<class 'pandas.core.frame.DataFrame'>\n",
      "RangeIndex: 4960 entries, 0 to 4959\n",
      "Data columns (total 5 columns):\n",
      " #   Column         Non-Null Count  Dtype  \n",
      "---  ------         --------------  -----  \n",
      " 0   frame_id       4960 non-null   float64\n",
      " 1   abs_time       4960 non-null   float64\n",
      " 2   bunch_counter  4960 non-null   int64  \n",
      " 3   column         4960 non-null   object \n",
      " 4   row            4960 non-null   object \n",
      "dtypes: float64(2), int64(1), object(2)\n",
      "memory usage: 193.9+ KB\n"
     ]
    }
   ],
   "source": [
    "def listcolumn_to_rows(df, explode):\n",
    "    idx = df.index.repeat(df[explode[0]].str.len())\n",
    "    df1 = pd.concat([\n",
    "        pd.DataFrame({x: np.concatenate(df[x].values)}) for x in explode], axis=1)\n",
    "    df1.index = idx\n",
    "    return df1.join(df.drop(explode, 1), how='left').reset_index(drop=True)\n",
    "df.info()"
   ],
   "metadata": {
    "collapsed": false,
    "pycharm": {
     "name": "#%%\n"
    }
   }
  },
  {
   "cell_type": "markdown",
   "source": [
    "* 데이터프레임에서 리스트형으로 존재하는 값을 explode하기\n",
    "    * https://www.w3resource.com/pandas/dataframe/dataframe-explode.php\n",
    "    * https://stackoverflow.com/a/53218939"
   ],
   "metadata": {
    "collapsed": false,
    "pycharm": {
     "name": "#%% md\n"
    }
   }
  },
  {
   "cell_type": "code",
   "execution_count": 121,
   "outputs": [
    {
     "name": "stdout",
     "output_type": "stream",
     "text": [
      "<class 'pandas.core.frame.DataFrame'>\n",
      "RangeIndex: 2094546 entries, 0 to 2094545\n",
      "Data columns (total 5 columns):\n",
      " #   Column         Dtype  \n",
      "---  ------         -----  \n",
      " 0   column         object \n",
      " 1   row            object \n",
      " 2   frame_id       float64\n",
      " 3   abs_time       float64\n",
      " 4   bunch_counter  int64  \n",
      "dtypes: float64(2), int64(1), object(2)\n",
      "memory usage: 79.9+ MB\n"
     ]
    },
    {
     "data": {
      "text/plain": "  column  row  frame_id      abs_time  bunch_counter\n0      1   48       1.0  3.949260e+09             54\n1      1  239       1.0  3.949260e+09             54\n2      0  263       1.0  3.949260e+09             54\n3      0  297       1.0  3.949260e+09             54\n4      1  305       1.0  3.949260e+09             54",
      "text/html": "<div>\n<style scoped>\n    .dataframe tbody tr th:only-of-type {\n        vertical-align: middle;\n    }\n\n    .dataframe tbody tr th {\n        vertical-align: top;\n    }\n\n    .dataframe thead th {\n        text-align: right;\n    }\n</style>\n<table border=\"1\" class=\"dataframe\">\n  <thead>\n    <tr style=\"text-align: right;\">\n      <th></th>\n      <th>column</th>\n      <th>row</th>\n      <th>frame_id</th>\n      <th>abs_time</th>\n      <th>bunch_counter</th>\n    </tr>\n  </thead>\n  <tbody>\n    <tr>\n      <th>0</th>\n      <td>1</td>\n      <td>48</td>\n      <td>1.0</td>\n      <td>3.949260e+09</td>\n      <td>54</td>\n    </tr>\n    <tr>\n      <th>1</th>\n      <td>1</td>\n      <td>239</td>\n      <td>1.0</td>\n      <td>3.949260e+09</td>\n      <td>54</td>\n    </tr>\n    <tr>\n      <th>2</th>\n      <td>0</td>\n      <td>263</td>\n      <td>1.0</td>\n      <td>3.949260e+09</td>\n      <td>54</td>\n    </tr>\n    <tr>\n      <th>3</th>\n      <td>0</td>\n      <td>297</td>\n      <td>1.0</td>\n      <td>3.949260e+09</td>\n      <td>54</td>\n    </tr>\n    <tr>\n      <th>4</th>\n      <td>1</td>\n      <td>305</td>\n      <td>1.0</td>\n      <td>3.949260e+09</td>\n      <td>54</td>\n    </tr>\n  </tbody>\n</table>\n</div>"
     },
     "execution_count": 121,
     "metadata": {},
     "output_type": "execute_result"
    }
   ],
   "source": [
    "df = listcolumn_to_rows(df, ['column', 'row'])\n",
    "df.info()\n",
    "df.head()"
   ],
   "metadata": {
    "collapsed": false,
    "pycharm": {
     "name": "#%%\n"
    }
   }
  }
 ],
 "metadata": {
  "kernelspec": {
   "name": "pycharm-9773527a",
   "language": "python",
   "display_name": "PyCharm (ml20py)"
  },
  "language_info": {
   "codemirror_mode": {
    "name": "ipython",
    "version": 2
   },
   "file_extension": ".py",
   "mimetype": "text/x-python",
   "name": "python",
   "nbconvert_exporter": "python",
   "pygments_lexer": "ipython2",
   "version": "2.7.6"
  }
 },
 "nbformat": 4,
 "nbformat_minor": 0
}