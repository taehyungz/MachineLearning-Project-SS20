{
 "cells": [
  {
   "cell_type": "code",
   "execution_count": 3,
   "outputs": [],
   "source": [
    "import pandas as pd\n",
    "import numpy as np\n",
    "from matplotlib import pyplot as plt"
   ],
   "metadata": {
    "collapsed": false,
    "pycharm": {
     "name": "#%%\n"
    }
   }
  },
  {
   "cell_type": "code",
   "execution_count": 4,
   "outputs": [
    {
     "data": {
      "text/plain": "      ru_id  frame_id  stave_id  chip_id      abs_time  bunch_counter  \\\n3867      1    414263         0        3  3.061330e+09             86   \n6243      1    745234         0        3  2.250950e+09            154   \n1161      1    252791         0        3  7.004690e+08             62   \n3430      1    389512         0        3  6.846070e+08             25   \n5032      1    578049         0        3  4.207520e+08             76   \n2785      1    342244         0        3  1.139330e+09             71   \n5972      1    734284         0        3  9.442650e+08            155   \n6480      1    755014         0        3  3.412550e+09            143   \n1399      1    266125         0        3  2.290830e+09             56   \n4047      1    422248         0        3  4.010890e+09            231   \n\n                                                 column  \\\n3867                                  [625;624;624;625]   \n6243                                          [517;517]   \n1161  [1;0;1;1;0;0;1;2;2;3;2;2;14;15;15;14;14;15;15;...   \n3430                                                772   \n5032                                                772   \n2785  [1;0;1;1;0;1;3;2;2;3;3;2;2;3;11;11;11;11;12;13...   \n5972                                                 56   \n6480                                                772   \n1399                                                226   \n4047                                                772   \n\n                                                    row  \n3867                                  [379;379;380;380]  \n6243                                          [126;127]  \n1161  [275;276;276;277;277;278;278;275;276;277;277;2...  \n3430                                                393  \n5032                                                393  \n2785  [423;424;424;425;425;426;423;423;424;424;425;4...  \n5972                                                 83  \n6480                                                393  \n1399                                                409  \n4047                                                393  ",
      "text/html": "<div>\n<style scoped>\n    .dataframe tbody tr th:only-of-type {\n        vertical-align: middle;\n    }\n\n    .dataframe tbody tr th {\n        vertical-align: top;\n    }\n\n    .dataframe thead th {\n        text-align: right;\n    }\n</style>\n<table border=\"1\" class=\"dataframe\">\n  <thead>\n    <tr style=\"text-align: right;\">\n      <th></th>\n      <th>ru_id</th>\n      <th>frame_id</th>\n      <th>stave_id</th>\n      <th>chip_id</th>\n      <th>abs_time</th>\n      <th>bunch_counter</th>\n      <th>column</th>\n      <th>row</th>\n    </tr>\n  </thead>\n  <tbody>\n    <tr>\n      <th>3867</th>\n      <td>1</td>\n      <td>414263</td>\n      <td>0</td>\n      <td>3</td>\n      <td>3.061330e+09</td>\n      <td>86</td>\n      <td>[625;624;624;625]</td>\n      <td>[379;379;380;380]</td>\n    </tr>\n    <tr>\n      <th>6243</th>\n      <td>1</td>\n      <td>745234</td>\n      <td>0</td>\n      <td>3</td>\n      <td>2.250950e+09</td>\n      <td>154</td>\n      <td>[517;517]</td>\n      <td>[126;127]</td>\n    </tr>\n    <tr>\n      <th>1161</th>\n      <td>1</td>\n      <td>252791</td>\n      <td>0</td>\n      <td>3</td>\n      <td>7.004690e+08</td>\n      <td>62</td>\n      <td>[1;0;1;1;0;0;1;2;2;3;2;2;14;15;15;14;14;15;15;...</td>\n      <td>[275;276;276;277;277;278;278;275;276;277;277;2...</td>\n    </tr>\n    <tr>\n      <th>3430</th>\n      <td>1</td>\n      <td>389512</td>\n      <td>0</td>\n      <td>3</td>\n      <td>6.846070e+08</td>\n      <td>25</td>\n      <td>772</td>\n      <td>393</td>\n    </tr>\n    <tr>\n      <th>5032</th>\n      <td>1</td>\n      <td>578049</td>\n      <td>0</td>\n      <td>3</td>\n      <td>4.207520e+08</td>\n      <td>76</td>\n      <td>772</td>\n      <td>393</td>\n    </tr>\n    <tr>\n      <th>2785</th>\n      <td>1</td>\n      <td>342244</td>\n      <td>0</td>\n      <td>3</td>\n      <td>1.139330e+09</td>\n      <td>71</td>\n      <td>[1;0;1;1;0;1;3;2;2;3;3;2;2;3;11;11;11;11;12;13...</td>\n      <td>[423;424;424;425;425;426;423;423;424;424;425;4...</td>\n    </tr>\n    <tr>\n      <th>5972</th>\n      <td>1</td>\n      <td>734284</td>\n      <td>0</td>\n      <td>3</td>\n      <td>9.442650e+08</td>\n      <td>155</td>\n      <td>56</td>\n      <td>83</td>\n    </tr>\n    <tr>\n      <th>6480</th>\n      <td>1</td>\n      <td>755014</td>\n      <td>0</td>\n      <td>3</td>\n      <td>3.412550e+09</td>\n      <td>143</td>\n      <td>772</td>\n      <td>393</td>\n    </tr>\n    <tr>\n      <th>1399</th>\n      <td>1</td>\n      <td>266125</td>\n      <td>0</td>\n      <td>3</td>\n      <td>2.290830e+09</td>\n      <td>56</td>\n      <td>226</td>\n      <td>409</td>\n    </tr>\n    <tr>\n      <th>4047</th>\n      <td>1</td>\n      <td>422248</td>\n      <td>0</td>\n      <td>3</td>\n      <td>4.010890e+09</td>\n      <td>231</td>\n      <td>772</td>\n      <td>393</td>\n    </tr>\n  </tbody>\n</table>\n</div>"
     },
     "execution_count": 4,
     "metadata": {},
     "output_type": "execute_result"
    }
   ],
   "source": [
    "df = pd.read_csv(\"../Data_Sets_for_Final_Projects/Helium-Data-ALIPIDE-Chip-Perpendicular/151218_4409.csv\")\n",
    "df.sample(n=10)\n",
    "\n"
   ],
   "metadata": {
    "collapsed": false,
    "pycharm": {
     "name": "#%%\n"
    }
   }
  }
 ],
 "metadata": {
  "kernelspec": {
   "display_name": "Python 3",
   "language": "python",
   "name": "python3"
  },
  "language_info": {
   "codemirror_mode": {
    "name": "ipython",
    "version": 2
   },
   "file_extension": ".py",
   "mimetype": "text/x-python",
   "name": "python",
   "nbconvert_exporter": "python",
   "pygments_lexer": "ipython2",
   "version": "2.7.6"
  }
 },
 "nbformat": 4,
 "nbformat_minor": 0
}